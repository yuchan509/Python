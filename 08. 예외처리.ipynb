{
 "cells": [
  {
   "cell_type": "markdown",
   "metadata": {},
   "source": [
    "#### 예외처리"
   ]
  },
  {
   "cell_type": "code",
   "execution_count": null,
   "metadata": {
    "id": "E8x0QHTTGQ5r"
   },
   "outputs": [],
   "source": [
    "# s/w는 중단되면 안됨.\n",
    "try :\n",
    "    # 예외가 발생할 만한 코드를 감싸기 => I/O\n",
    "    print( 1 )\n",
    "    1/0\n",
    "    print( 2 )\n",
    "\n",
    "# 예외를 잡아서 처리.\n",
    "except Exception as e :\n",
    "    print( 3, e )\n",
    "\n",
    "# 예외 상황이 없이 잘 수행되었다면 호출.\n",
    "else :\n",
    "    print( 4 )\n",
    "\n",
    "# 무조건 수행.\n",
    "finally :\n",
    "    print( 5 )"
   ]
  },
  {
   "cell_type": "code",
   "execution_count": null,
   "metadata": {
    "id": "875t6Ji0HePH"
   },
   "outputs": [],
   "source": [
    "# 예외 상황이 없는 정상적인 경우.\n",
    "try :\n",
    "    # 예외가 발생할 만한 코드를 감싸기 => I/O\n",
    "    print( 1 )\n",
    "    print( 2 )\n",
    "\n",
    "# 예외를 잡아서 처리.\n",
    "except Exception as e :\n",
    "    print( 3, e )\n",
    "    \n",
    "# 생략가능.    \n",
    "else :\n",
    "    print( 4 )\n",
    "    \n",
    "# 생략가능.    \n",
    "finally :\n",
    "    print( 5 )"
   ]
  }
 ],
 "metadata": {
  "colab": {
   "authorship_tag": "ABX9TyPPBNjctKTYBx1uLTNEUgsQ",
   "collapsed_sections": [],
   "name": "10.예외처리.ipynb",
   "private_outputs": true,
   "provenance": []
  },
  "kernelspec": {
   "display_name": "Python 3",
   "language": "python",
   "name": "python3"
  },
  "language_info": {
   "codemirror_mode": {
    "name": "ipython",
    "version": 3
   },
   "file_extension": ".py",
   "mimetype": "text/x-python",
   "name": "python",
   "nbconvert_exporter": "python",
   "pygments_lexer": "ipython3",
   "version": "3.7.6"
  }
 },
 "nbformat": 4,
 "nbformat_minor": 1
}
