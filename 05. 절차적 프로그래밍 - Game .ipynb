{
 "cells": [
  {
   "cell_type": "markdown",
   "metadata": {
    "id": "bSb4oGz9Avo9"
   },
   "source": [
    "#### 목적\n",
    "- 커스텀 함수와 클레스 사용을 배제한, 제한된 환경에서 특정 목적으로 가진 s/w 혹은 프로그램을 만들어서, 기본 자료구조, 흐름제어 등의  사용 능력을 극대화."
   ]
  },
  {
   "cell_type": "markdown",
   "metadata": {
    "id": "n7EUD5rwBFyj"
   },
   "source": [
    "- 게임 주제\n",
    "  - 장르 : 머드 게임(프럼프트 상에서 대화형으로 게임을 진행)\n",
    "  - 요약 : AI가 만든는 1~100 사이의 임의 수를 플레이어가 최소로 시도하여 숫자를 맞추는 게임이다 \n",
    "  - 제목 : 숫자 맞추기 게임\n",
    "  - 화면은 존재하지 않는다\n"
   ]
  },
  {
   "cell_type": "markdown",
   "metadata": {
    "id": "gdydt1TmBo7G"
   },
   "source": [
    "- 게임 STEP\n",
    "  - **Step1**\n",
    "    - 게임이 시작하면 Enjoy Custom Game World\"라는 문구가 출력된다.\n",
    "    \n",
    "  - **Step2**\n",
    "    - \"게임 제목을 입력하세요, 단 20자 이내로 입력 가능합니다.\" 라는 문구가 출력된다.\n",
    "    - 플레이어가 입력할때까지 무제한으로 대기한다.\n",
    "    - 아무것도 입력하지 않고 엔터를 치면 \"정확하게 입력하세요.\" 라고 출력하고 다시 입력 대기한다.\n",
    "    - 20자 이상 입력하고 엔터를 치면, \"20자가 초과되었습니다.\" 라고 출력하고 다시 입력 대기한다.\n",
    "    - 20자 이내로 입력하고 엔터를 치면 GameTitle이라는 변수에 게임 제목을 담고 다음 단계로 이동한다.\n",
    "    \n",
    "  - **Step3**\n",
    "      - \"플레이어의 닉네임을 입력하시오, 단 15자로 제한한다.\"\n",
    "      - 입력에 대한 체크 포인트는 Step2와 동일하다.\n",
    "      - 플레이어에 대한 닉네임은 player_name이라는 변수에 보관한다.\n",
    "      \n",
    "  - **Step4**\n",
    "      - 게임 시작에 앞서 다음과 같은 프럼프트를 출력하고 게임을 시작한다.\n",
    "\n",
    "          ```\n",
    "        ------------------------------\n",
    "        -         게임 제목          -\n",
    "        -          v 1.0             -\n",
    "        -   welcome 플레어이름       - \n",
    "        ------------------------------\n",
    "        게임이 시작됩니다. AI가 숫자를 준비합니다.\n",
    "        ```\n",
    "  - **Step5**\n",
    "      - 본 게임 시작.\n",
    "      - AI가 1~100사이의 임의의 수를 정수로 하나 랜덤하게 생성한다.\n",
    "      - \"1<= x <=100 에서 값을 하나 선택하세요.\"\n",
    "      - 사용자는 1 ~ 100 사이에 값을 입력한다.\n",
    "        - 입력을 안하고 엔터.\n",
    "        - 1보다 작거나, 100보다 크거가 하는 값을 넣고 엔터.\n",
    "        - 숫자가 될수 없는 값을 넣고 엔터.\n",
    "        - 정상적인 값을 입력하고 엔터.\n",
    "        \n",
    "  - **STEP 6**\n",
    "      - AI의 값과 플레이어 값을 비교.\n",
    "      - 판정 : 작으면 작다, 크면 크다라고 출력을 하고 다시 입력 대기를 한다.\n",
    "      - 만약, 정답을 맞추면 총 시도횟수를 10에서 빼서 10을 곱한다. 이것을 이번 판의 획득 점수로 표현한다.\n",
    "      - \"총 00회 시도 해서 00점을 획득하였습니다. 다시하시겠습니까?\"\n",
    "      - yes : 다시 게임 시작 => step5, no : 게임 종료\n",
    "      - 게임 종료 : good bye~!! => exit()종료\n",
    "      \n",
    " - **참고** https://github.com/yuchan509/Game"
   ]
  },
  {
   "cell_type": "code",
   "execution_count": 1,
   "metadata": {
    "id": "xcdc_P-GC8lZ"
   },
   "outputs": [],
   "source": [
    "# 난수 생성 관련 기능 제공.\n",
    "# 외장함수 => 특정 모듈을 가져와서 사용.\n",
    "import random"
   ]
  },
  {
   "cell_type": "code",
   "execution_count": 2,
   "metadata": {
    "id": "NRNFRGU0DL5A"
   },
   "outputs": [
    {
     "data": {
      "text/plain": [
       "{1, 2, 3}"
      ]
     },
     "execution_count": 2,
     "metadata": {},
     "output_type": "execute_result"
    }
   ],
   "source": [
    "# 난수범위 : a <= x <= b\n",
    "set( [ random.randint(1, 3) for _ in range(100) ] )"
   ]
  },
  {
   "cell_type": "code",
   "execution_count": 3,
   "metadata": {
    "id": "_UwprXSHEFDJ"
   },
   "outputs": [
    {
     "data": {
      "text/plain": [
       "100"
      ]
     },
     "execution_count": 3,
     "metadata": {},
     "output_type": "execute_result"
    }
   ],
   "source": [
    "# AI가 난수를 발생시키는 기능 테스트.\n",
    "len( set( [ random.randint(1, 100) for _ in range(1000) ] ) )"
   ]
  },
  {
   "cell_type": "code",
   "execution_count": 14,
   "metadata": {
    "id": "gabZ-sWBF3g5"
   },
   "outputs": [],
   "source": [
    "# 수치변환이 가능한지 확인.\n",
    "# 정수 변환시 공백처리는 자동으로 처리.\n",
    "a = '1'\n",
    "b = '2  ' \n",
    "\n",
    "# 부동소수는 int 처리가 안됨.\n",
    "c = '1.1' "
   ]
  },
  {
   "cell_type": "code",
   "execution_count": 13,
   "metadata": {
    "id": "pRlwGB6Y1sLQ"
   },
   "outputs": [
    {
     "data": {
      "text/plain": [
       "(1, 2)"
      ]
     },
     "execution_count": 13,
     "metadata": {},
     "output_type": "execute_result"
    }
   ],
   "source": [
    "int(a), int(b)"
   ]
  },
  {
   "cell_type": "code",
   "execution_count": 15,
   "metadata": {
    "id": "IDCyUAgoF980"
   },
   "outputs": [
    {
     "data": {
      "text/plain": [
       "(True, True, True, False)"
      ]
     },
     "execution_count": 15,
     "metadata": {},
     "output_type": "execute_result"
    }
   ],
   "source": [
    "# 문자열을 정수로\n",
    "# int(a)\n",
    "a = '1'\n",
    "a.isdecimal(), a.isdigit(), a.isnumeric(), a.isalpha()"
   ]
  },
  {
   "cell_type": "code",
   "execution_count": 16,
   "metadata": {
    "id": "5Tm7_aBKGivC"
   },
   "outputs": [
    {
     "data": {
      "text/plain": [
       "(False, False, False, True)"
      ]
     },
     "execution_count": 16,
     "metadata": {},
     "output_type": "execute_result"
    }
   ],
   "source": [
    "a = \"hi\"\n",
    "a.isdecimal(), a.isdigit(), a.isnumeric(), a.isalpha()"
   ]
  },
  {
   "cell_type": "code",
   "execution_count": 17,
   "metadata": {
    "id": "VOb397aPGyKY"
   },
   "outputs": [
    {
     "data": {
      "text/plain": [
       "(False, False, False, True)"
      ]
     },
     "execution_count": 17,
     "metadata": {},
     "output_type": "execute_result"
    }
   ],
   "source": [
    "a = \"하이\"\n",
    "a.isdecimal(), a.isdigit(), a.isnumeric(), a.isalpha()"
   ]
  },
  {
   "cell_type": "code",
   "execution_count": 18,
   "metadata": {
    "id": "yfx5b5daGnx_"
   },
   "outputs": [
    {
     "data": {
      "text/plain": [
       "(False, False, False, False)"
      ]
     },
     "execution_count": 18,
     "metadata": {},
     "output_type": "execute_result"
    }
   ],
   "source": [
    "a = \"1.1\"\n",
    "a.isdecimal(), a.isdigit(), a.isnumeric(), a.isalpha()"
   ]
  },
  {
   "cell_type": "code",
   "execution_count": 19,
   "metadata": {
    "id": "22oYusCV1nOY"
   },
   "outputs": [
    {
     "data": {
      "text/plain": [
       "(False, False, False, False)"
      ]
     },
     "execution_count": 19,
     "metadata": {},
     "output_type": "execute_result"
    }
   ],
   "source": [
    "a = \"-1\"\n",
    "a.isdecimal(), a.isdigit(), a.isnumeric(), a.isalpha()"
   ]
  },
  {
   "cell_type": "markdown",
   "metadata": {},
   "source": [
    "- Game Step6 참고"
   ]
  },
  {
   "cell_type": "code",
   "execution_count": 25,
   "metadata": {
    "id": "K6WHPGhfCeen"
   },
   "outputs": [
    {
     "data": {
      "text/plain": [
       "0"
      ]
     },
     "execution_count": 25,
     "metadata": {},
     "output_type": "execute_result"
    }
   ],
   "source": [
    "tryCnt = 11\n",
    "point = (10 - tryCnt)*10\n",
    "\n",
    "# point가 음수이면, 0점 처리.\n",
    "if point < 0 :\n",
    "    point = 0\n",
    "point"
   ]
  },
  {
   "cell_type": "code",
   "execution_count": 26,
   "metadata": {
    "id": "oLfu7R_JIsDh"
   },
   "outputs": [
    {
     "data": {
      "text/plain": [
       "0"
      ]
     },
     "execution_count": 26,
     "metadata": {},
     "output_type": "execute_result"
    }
   ],
   "source": [
    "# False를 의미하는 값들이 and에 존재하면 의도하지 않은 결과를 볼 수 있음.\n",
    "#point = tryCnt > 10 and 0 or (10 - tryCnt)*10\n",
    "point = tryCnt <= 10 and (10 - tryCnt)*10 or 0\n",
    "point"
   ]
  },
  {
   "cell_type": "code",
   "execution_count": 27,
   "metadata": {
    "id": "A_3b24KKIsF5"
   },
   "outputs": [
    {
     "data": {
      "text/plain": [
       "0"
      ]
     },
     "execution_count": 27,
     "metadata": {},
     "output_type": "execute_result"
    }
   ],
   "source": [
    "point = 0 if tryCnt > 10 else (10 - tryCnt)*10\n",
    "point"
   ]
  }
 ],
 "metadata": {
  "colab": {
   "authorship_tag": "ABX9TyNTDyz4K+0xaAQNzif/xpo8",
   "collapsed_sections": [
    "gdydt1TmBo7G"
   ],
   "name": "6.절차적프로그래밍_게임개발.ipynb",
   "private_outputs": true,
   "provenance": []
  },
  "kernelspec": {
   "display_name": "Python 3",
   "language": "python",
   "name": "python3"
  },
  "language_info": {
   "codemirror_mode": {
    "name": "ipython",
    "version": 3
   },
   "file_extension": ".py",
   "mimetype": "text/x-python",
   "name": "python",
   "nbconvert_exporter": "python",
   "pygments_lexer": "ipython3",
   "version": "3.7.6"
  }
 },
 "nbformat": 4,
 "nbformat_minor": 1
}
