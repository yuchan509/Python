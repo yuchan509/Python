{
 "cells": [
  {
   "cell_type": "markdown",
   "metadata": {
    "id": "MeuqDHmv04rs"
   },
   "source": [
    "#### Class\n",
    "- 개념\n",
    "  - entity(개체)\n",
    "    - 이 세상에 존재하는 모든 무형(생각,사고) / 유형을 대변.\n",
    "  - entity를 프로그램 언어로 표현하기 위해서 제공되는 방식. => class"
   ]
  },
  {
   "cell_type": "markdown",
   "metadata": {
    "id": "CuyowRcM1adv"
   },
   "source": [
    "- 객체(Object)\n",
    "  - Class를 메모리에 생성하면, Class의 인스턴스가 생성됨.\n",
    "  - Class의 인스턴스를 객체라고함.\n",
    "  - Class의 인스턴스를 여러개 존재할수 있음 => 객체도 여러개 존재할 수 있음.\n",
    "  - 객체의 청사진은 Class.\n",
    "  - 객체는 주소를 가짐(메모리 상)\n",
    "  - 변수를 그 주소값을 가짐으로써 해당 객체를 가르킴."
   ]
  },
  {
   "cell_type": "markdown",
   "metadata": {
    "id": "byh80nR91-a0"
   },
   "source": [
    "- OOP\n",
    "  - 객체를 이용하여 프로그램을 작성하면, 객체 지향 프로그램이라고 함.\n",
    "  - Object Oriented Programming.\n",
    "  - OOP는 C++에서 시작되었고, java에서 발전함. 대부분의 언어는 객체 지향 프로그램을 지원함."
   ]
  },
  {
   "cell_type": "markdown",
   "metadata": {
    "id": "8ALVyIXN2UAw"
   },
   "source": [
    "- Class\n",
    "  - 개체를 표현하는 문법적인 도구.\n",
    "  - Class는 맴버로, 변수, 함수를 가짐 => 맴버변수, 맴버함수 라고 부름.\n",
    "  - 맴버라고 부르는 요소는 무조건\n",
    "    - 객체명.맴버변수, 객체명.맴버함수 라는 형식으로 사용됨.\n",
    "    - Class 내부에서 사용될 때는 자기 자신 객체 self(python, objective-c) or this(java,c#,..)"
   ]
  },
  {
   "cell_type": "code",
   "execution_count": 1,
   "metadata": {
    "id": "3_FAhB2M1nvM"
   },
   "outputs": [
    {
     "data": {
      "text/plain": [
       "'\\nclass 클레스명[([부모클레스])] :\\n  # 생성자 -> 객체가 생성될 때 호출되는 함수\\n\\n  # 맴버변수\\n\\n  # 맴버함수\\n\\n  # 기타(소멸자, 객체설명,..)\\n'"
      ]
     },
     "execution_count": 1,
     "metadata": {},
     "output_type": "execute_result"
    }
   ],
   "source": [
    "'''\n",
    "class 클레스명[([부모클레스])] :\n",
    "  # 생성자 -> 객체가 생성될 때 호출되는 함수\n",
    "\n",
    "  # 맴버변수\n",
    "\n",
    "  # 맴버함수\n",
    "\n",
    "  # 기타(소멸자, 객체설명,..)\n",
    "'''"
   ]
  },
  {
   "cell_type": "code",
   "execution_count": 2,
   "metadata": {
    "id": "3mviBCf331sR"
   },
   "outputs": [
    {
     "data": {
      "text/plain": [
       "'\\nclass A:pass     # A 클레스의 부모는 object이다\\nclass A():pass   # A 클레스의 부모는 object이다\\nclass A(B):pass  # A 클레스의 부모는 B이다\\n\\n* object는 모든 클레스의 수펴클레스(근본, 시초, 기원)이다\\n'"
      ]
     },
     "execution_count": 2,
     "metadata": {},
     "output_type": "execute_result"
    }
   ],
   "source": [
    "'''\n",
    "class A:pass     # A 클레스의 부모는 object이다\n",
    "class A():pass   # A 클레스의 부모는 object이다\n",
    "class A(B):pass  # A 클레스의 부모는 B이다\n",
    "\n",
    "* object는 모든 클레스의 수펴클레스(근본, 시초, 기원)이다\n",
    "'''"
   ]
  },
  {
   "cell_type": "code",
   "execution_count": 1,
   "metadata": {
    "id": "RE8zP5wA48DA"
   },
   "outputs": [],
   "source": [
    "# Class 기본 구성.\n",
    "# 사람이라는 엔티티를 파이썬으로 묘사해봄.\n",
    "# 속성 : 나이, 이름 => 맴버 변수.\n",
    "# 행동 : 밥을 먹는다, 걷는다 => 맴버 함수.\n",
    "# Class명은 보편적으로 첫글자 대문자로 기술함.(암묵적인 룰)\n",
    "\n",
    "# Class 정의.\n",
    "class Person :\n",
    "    pass"
   ]
  },
  {
   "cell_type": "code",
   "execution_count": 2,
   "metadata": {
    "id": "Xogvvjt35tVY"
   },
   "outputs": [
    {
     "data": {
      "text/plain": [
       "<__main__.Person at 0x1d2835eb2c8>"
      ]
     },
     "execution_count": 2,
     "metadata": {},
     "output_type": "execute_result"
    }
   ],
   "source": [
    "# Class를 사용하고 싶다면, Class의 인스턴스를 생성해야함.\n",
    "# 생성법 : Class명()\n",
    "# 객체가 만들어지면 주소가 리턴이 되고 이 주소를 변수가 받아서, 이후로는 그 변수를 \"Person 객체 p라고 부름\"\n",
    "p = Person()\n",
    "p"
   ]
  },
  {
   "cell_type": "code",
   "execution_count": 3,
   "metadata": {
    "id": "YrfbZWxq5-DX"
   },
   "outputs": [],
   "source": [
    "# 제거.\n",
    "del p"
   ]
  },
  {
   "cell_type": "code",
   "execution_count": 4,
   "metadata": {
    "id": "DBMdCPT-6WWG"
   },
   "outputs": [],
   "source": [
    "# Class의 구성요소를 더 추가.\n",
    "# Class내에서 존재하는 모든 함수들은 1번인자가 무조건 self임.(상징적)\n",
    "# 단, 아닌 함수도 존재함.(정적 함수)\n",
    "class Person :\n",
    "    '''\n",
    "    맴버변수    \n",
    "    '''\n",
    "    age  = None\n",
    "    name = None\n",
    "    \n",
    "    '''\n",
    "    생성자 -> 객체 생성, 맴버변수 초기화, 객채 생성시 전달되는 값 처리\n",
    "    -> 부모 생성자 호출 및 데이터 전달\n",
    "    '''\n",
    "    def __init__(self) :\n",
    "        print('생성자 호출')\n",
    "    '''\n",
    "    맴버함수\n",
    "    '''\n",
    "    def eat(self) :\n",
    "        print('밥을 먹는다')\n",
    "    \n",
    "    def walk(self) :\n",
    "        print('걷는다')"
   ]
  },
  {
   "cell_type": "code",
   "execution_count": 5,
   "metadata": {
    "id": "dLx6UOuw8q-F"
   },
   "outputs": [
    {
     "name": "stdout",
     "output_type": "stream",
     "text": [
      "생성자 호출\n",
      "밥을 먹는다\n",
      "걷는다\n"
     ]
    },
    {
     "data": {
      "text/plain": [
       "(None, None)"
      ]
     },
     "execution_count": 5,
     "metadata": {},
     "output_type": "execute_result"
    }
   ],
   "source": [
    "p = Person()\n",
    "p.eat()\n",
    "p.walk()\n",
    "p.age, p.name"
   ]
  },
  {
   "cell_type": "code",
   "execution_count": 6,
   "metadata": {
    "id": "OB8iChSy8s2I"
   },
   "outputs": [],
   "source": [
    "class Person :\n",
    "    age  = None\n",
    "    name = None\n",
    "    \n",
    "    def __init__(self, age, name) :\n",
    "        print('생성자 호출')\n",
    "    \n",
    "        # 맴버변수 = 지역변수\n",
    "        self.age  = age\n",
    "        self.name = name\n",
    "    \n",
    "    def eat(self) :\n",
    "        print('밥을 먹는다')\n",
    "        \n",
    "    def walk(self) :\n",
    "        print('걷는다')"
   ]
  },
  {
   "cell_type": "code",
   "execution_count": 7,
   "metadata": {
    "id": "04RDf3V9937B"
   },
   "outputs": [
    {
     "name": "stdout",
     "output_type": "stream",
     "text": [
      "생성자 호출\n"
     ]
    },
    {
     "data": {
      "text/plain": [
       "(20, '부산대')"
      ]
     },
     "execution_count": 7,
     "metadata": {},
     "output_type": "execute_result"
    }
   ],
   "source": [
    "p = Person( 20, '부산대')\n",
    "p.age, p.name"
   ]
  },
  {
   "cell_type": "markdown",
   "metadata": {},
   "source": [
    "- 객체지향 프로그래밍을 통해 얻는 이득.\n",
    "- 버전 업그레이드시 => 상속받고 추가, 재정의 하면 가능.\n",
    "- 각 기능별로 Class로 설계하여 모듈화 할수 있음.(부속화 가능.)"
   ]
  },
  {
   "cell_type": "markdown",
   "metadata": {
    "id": "AZZ6vIW698iv"
   },
   "source": [
    "- 상속 => 객체 지향 프로그랭밍의 특징 중 하나.\n",
    "- 부모 Class와 자식 Class.\n",
    "- 자식은 부모의 자원(유산)을 그대로 사용가능하고, 부모의 유산을 재정의 할수 있고, 자식은 요소들을 별도로 추가가 가능함.\n",
    "- 자식 is a 부모\n",
    "- 부모 has a 자식"
   ]
  },
  {
   "cell_type": "code",
   "execution_count": 8,
   "metadata": {
    "id": "amMfwhY9Cxdi"
   },
   "outputs": [
    {
     "name": "stdout",
     "output_type": "stream",
     "text": [
      "생성자 호출\n"
     ]
    },
    {
     "data": {
      "text/plain": [
       "'울버린'"
      ]
     },
     "execution_count": 8,
     "metadata": {},
     "output_type": "execute_result"
    }
   ],
   "source": [
    "# 자식은 부모의 자원(유산)을 그대로 사용가능하고, \n",
    "# 상속.\n",
    "class XMan(Person) : pass\n",
    "\n",
    "# 생성.\n",
    "xm = XMan( 100, '울버린')\n",
    "xm.name"
   ]
  },
  {
   "cell_type": "code",
   "execution_count": 9,
   "metadata": {
    "id": "6nO-KT9IC2Tv"
   },
   "outputs": [
    {
     "name": "stdout",
     "output_type": "stream",
     "text": [
      "생성자 호출\n",
      "울버린는 시속 100km/s로 걷는다\n"
     ]
    }
   ],
   "source": [
    "# 부모의 유산을 재정의 할수 있고, => 함수의 내부를 새로 구성.\n",
    "# override : 재정의\n",
    "# 상속 <-> 추상화\n",
    "\n",
    "class XMan2(Person) :\n",
    "    def walk(self):\n",
    "        print(f'{self.name}는 시속 100km/s로 걷는다')\n",
    "\n",
    "xm2 = XMan2( 99, '울버린' )\n",
    "xm2.walk()"
   ]
  },
  {
   "cell_type": "code",
   "execution_count": 10,
   "metadata": {
    "id": "qH7KIS8WDtB5"
   },
   "outputs": [
    {
     "name": "stdout",
     "output_type": "stream",
     "text": [
      "생성자 호출\n",
      "공격한다\n"
     ]
    }
   ],
   "source": [
    "# 자식은 요소들을 별도로 추가가 가능함.\n",
    "class XMan3(XMan2) :\n",
    "    weapon = '갈고리'\n",
    "    def attack(self):\n",
    "        print('공격한다')  \n",
    "\n",
    "xm3 = XMan3( 98, '울버린' )\n",
    "xm3.weapon\n",
    "xm3.attack()"
   ]
  },
  {
   "cell_type": "code",
   "execution_count": 11,
   "metadata": {
    "id": "uSQ0-lO_F5Fg"
   },
   "outputs": [
    {
     "data": {
      "text/plain": [
       "'철 갈고리'"
      ]
     },
     "execution_count": 11,
     "metadata": {},
     "output_type": "execute_result"
    }
   ],
   "source": [
    "xm3.weapon = '철 갈고리'\n",
    "xm3.weapon"
   ]
  }
 ],
 "metadata": {
  "colab": {
   "authorship_tag": "ABX9TyO9IEgzptPGnWsGb6k4+Ff4",
   "collapsed_sections": [],
   "name": "9.클레스.ipynb",
   "private_outputs": true,
   "provenance": []
  },
  "kernelspec": {
   "display_name": "Python 3",
   "language": "python",
   "name": "python3"
  },
  "language_info": {
   "codemirror_mode": {
    "name": "ipython",
    "version": 3
   },
   "file_extension": ".py",
   "mimetype": "text/x-python",
   "name": "python",
   "nbconvert_exporter": "python",
   "pygments_lexer": "ipython3",
   "version": "3.7.6"
  }
 },
 "nbformat": 4,
 "nbformat_minor": 1
}
