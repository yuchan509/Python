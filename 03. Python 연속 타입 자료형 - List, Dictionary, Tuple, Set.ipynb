{
 "cells": [
  {
   "cell_type": "markdown",
   "metadata": {
    "id": "SbATXTA_zipl"
   },
   "source": [
    "#### Python 연속 타입 자료형\n",
    "- 단일 데이터 n개를 가지고 있는 자료구조.\n",
    "- 연속형, 시퀀스형 표현.\n",
    "- 튜플만 수정불가."
   ]
  },
  {
   "cell_type": "markdown",
   "metadata": {
    "id": "CnJSpiMH0CW1"
   },
   "source": [
    "|타입명|기호|특징|크기|\n",
    "|--|--|:--:|--|\n",
    "|`리스트`|[]|list()<br> []<br> 순서(인덱스) O<br> 값 중복 O|len()|\n",
    "|`딕셔너리`|{}|dict()<br> {}<br> 순서(인덱스) X<br> 값 중복 O, 키 중복 X<br> 키와 값의 세트로 구성<br> 타언어와 통신시 json으로 대응됨 |len()|\n",
    "|`튜플`|()|tuple()<br> ()<br> 순서(인덱스) O<br> 값 중복 O<br> 단수하게 값을 묶는다|len()|\n",
    "|`집합`|{}|set()<br> {}<br> 순서(인덱스) X<br> 값 중복 X<br>중복 제거|len()|\n",
    "|`배열`|ndarray|numpy의 자료구조, 행렬|shape|\n",
    "|`시리즈`|Series|pandas의 자료구조, 1차원 구조|shape|\n",
    "|`데이터프레임`|DataFrame|pandas의 자료구조, 2차원 구조|shape|\n",
    "|`텐서`|Tensor|딥러닝중요 엔진들의 자료구조, tensorflow, pytorch|shape|"
   ]
  },
  {
   "cell_type": "markdown",
   "metadata": {
    "id": "Z-P0SSKDzn2k"
   },
   "source": [
    "#### 리스트(List)"
   ]
  },
  {
   "cell_type": "code",
   "execution_count": 1,
   "metadata": {
    "id": "67weBh8e2hg8"
   },
   "outputs": [],
   "source": [
    "# 1. 생성.\n",
    "# 동적생성 : 리스트의 맴버를 나중에 추가할 경우 사용.\n",
    "a = list()\n",
    "a, type(a), len(a)"
   ]
  },
  {
   "cell_type": "code",
   "execution_count": 2,
   "metadata": {
    "id": "syDjL03f3XVu"
   },
   "outputs": [
    {
     "data": {
      "text/plain": [
       "([1, 2, 3], list, 3)"
      ]
     },
     "execution_count": 2,
     "metadata": {},
     "output_type": "execute_result"
    }
   ],
   "source": [
    "# 정적구성 : 리스트의 맴버를 바로 추가하면서 생성하는 경우.\n",
    "# 그러나, 나중에 맴버를 추가하는 형태에서 사용은 가능.\n",
    "a = [1, 2, 3]\n",
    "a, type(a), len(a)"
   ]
  },
  {
   "cell_type": "code",
   "execution_count": 3,
   "metadata": {
    "id": "9tr3xjR33j-D"
   },
   "outputs": [
    {
     "data": {
      "text/plain": [
       "['버거킹', '롯데리아', '서브웨이']"
      ]
     },
     "execution_count": 3,
     "metadata": {},
     "output_type": "execute_result"
    }
   ],
   "source": [
    "b = ['버거킹','롯데리아','서브웨이']\n",
    "b"
   ]
  },
  {
   "cell_type": "code",
   "execution_count": 4,
   "metadata": {
    "id": "hpeLPxbR4Aj-"
   },
   "outputs": [
    {
     "data": {
      "text/plain": [
       "[1, 2, 3, '버거킹', '롯데리아', '서브웨이']"
      ]
     },
     "execution_count": 4,
     "metadata": {},
     "output_type": "execute_result"
    }
   ],
   "source": [
    "# 리스트 합치기, 리스트의 타입이 달라도 하나의 리스트로 만드는데 문제 없음.(구성원의 맴버 타입은 중요하지 않음)\n",
    "# 리턴값이 리스트로 나왔다 => 사본 출력.\n",
    "c = a + b\n",
    "c"
   ]
  },
  {
   "cell_type": "code",
   "execution_count": 5,
   "metadata": {
    "id": "ffR5v7vF4ddi"
   },
   "outputs": [
    {
     "data": {
      "text/plain": [
       "'서브웨이'"
      ]
     },
     "execution_count": 5,
     "metadata": {},
     "output_type": "execute_result"
    }
   ],
   "source": [
    "# 인덱싱.\n",
    "# 변수[인덱스]\n",
    "# 차원축소 : 리스트에서 인덱싱을 수행하니 값이 나옴.\n",
    "# 백터 => 스칼라를 취함.\n",
    "c[ -1 ]"
   ]
  },
  {
   "cell_type": "code",
   "execution_count": 6,
   "metadata": {
    "id": "_eX2VJMX4dgR"
   },
   "outputs": [
    {
     "data": {
      "text/plain": [
       "[1, 2, 3, '버거킹', '롯데리아', '서브웨이']"
      ]
     },
     "execution_count": 6,
     "metadata": {},
     "output_type": "execute_result"
    }
   ],
   "source": [
    "# 슬라이싱.\n",
    "# 변수[시작인덱스 : 끝인덱스 : step(기본값1)]\n",
    "# 원본 카피.\n",
    "c[:]"
   ]
  },
  {
   "cell_type": "code",
   "execution_count": 7,
   "metadata": {
    "id": "tjmo2XlJ4dir"
   },
   "outputs": [
    {
     "data": {
      "text/plain": [
       "([1, 2], ['롯데리아', '서브웨이'])"
      ]
     },
     "execution_count": 7,
     "metadata": {},
     "output_type": "execute_result"
    }
   ],
   "source": [
    "# 처음부터 2번째까지, 뒤에서 2번째부터 끝까지\n",
    "c[:2], c[-2:]"
   ]
  },
  {
   "cell_type": "code",
   "execution_count": 8,
   "metadata": {
    "id": "TslrP7QT4dlJ"
   },
   "outputs": [
    {
     "data": {
      "text/plain": [
       "[1, 2, 100, '버거킹', '롯데리아', '서브웨이']"
      ]
     },
     "execution_count": 8,
     "metadata": {},
     "output_type": "execute_result"
    }
   ],
   "source": [
    "# 수정 => 원본 수정.\n",
    "# 인덱싱 수정.\n",
    "c[2] = 100\n",
    "c"
   ]
  },
  {
   "cell_type": "code",
   "execution_count": 9,
   "metadata": {
    "id": "yLRN04sy5ZG7"
   },
   "outputs": [
    {
     "data": {
      "text/plain": [
       "['1', 100, '버거킹', '롯데리아', '서브웨이']"
      ]
     },
     "execution_count": 9,
     "metadata": {},
     "output_type": "execute_result"
    }
   ],
   "source": [
    "# 슬라이싱 수정.\n",
    "# 수정의 값은 연속형만 가능.\n",
    "c[:2] = \"1\"\n",
    "c"
   ]
  },
  {
   "cell_type": "code",
   "execution_count": 10,
   "metadata": {
    "id": "fkOa1AuX5ZMp"
   },
   "outputs": [
    {
     "data": {
      "text/plain": [
       "['1', 100, '버거킹', '롯데리아', '서브웨이', 10]"
      ]
     },
     "execution_count": 10,
     "metadata": {},
     "output_type": "execute_result"
    }
   ],
   "source": [
    "# 추가.\n",
    "c.append(10)\n",
    "c"
   ]
  },
  {
   "cell_type": "code",
   "execution_count": 11,
   "metadata": {
    "id": "SCKdFpzC6IJk"
   },
   "outputs": [
    {
     "data": {
      "text/plain": [
       "[100, '버거킹', '롯데리아', '서브웨이', 10]"
      ]
     },
     "execution_count": 11,
     "metadata": {},
     "output_type": "execute_result"
    }
   ],
   "source": [
    "# 삭제.\n",
    "# 파이썬 표현 내에서 특정 변수를 해제하는 방법 : del\n",
    "del c[0]\n",
    "c"
   ]
  },
  {
   "cell_type": "code",
   "execution_count": 12,
   "metadata": {
    "id": "azS4IlZT6XZT"
   },
   "outputs": [
    {
     "data": {
      "text/plain": [
       "['롯데리아', '서브웨이', 10]"
      ]
     },
     "execution_count": 12,
     "metadata": {},
     "output_type": "execute_result"
    }
   ],
   "source": [
    "del c[:2]\n",
    "c"
   ]
  },
  {
   "cell_type": "code",
   "execution_count": 13,
   "metadata": {
    "id": "Vy4WyBGG6b93"
   },
   "outputs": [
    {
     "data": {
      "text/plain": [
       "[]"
      ]
     },
     "execution_count": 13,
     "metadata": {},
     "output_type": "execute_result"
    }
   ],
   "source": [
    "# 전부 삭제.\n",
    "c.clear()\n",
    "c"
   ]
  },
  {
   "cell_type": "code",
   "execution_count": 14,
   "metadata": {
    "id": "hsjflArt6m_H"
   },
   "outputs": [
    {
     "data": {
      "text/plain": [
       "[1, 2, 3]"
      ]
     },
     "execution_count": 14,
     "metadata": {},
     "output_type": "execute_result"
    }
   ],
   "source": [
    "# 원본이 수정되서 c에 a가 이어 붙여짐.(추가.)\n",
    "c.extend( a )\n",
    "c"
   ]
  },
  {
   "cell_type": "markdown",
   "metadata": {
    "id": "f6gejylTzqdx"
   },
   "source": [
    "#### 딕셔너리(Dictionary )"
   ]
  },
  {
   "cell_type": "code",
   "execution_count": 15,
   "metadata": {
    "id": "Gtf1tP1a7Q_Y"
   },
   "outputs": [
    {
     "data": {
      "text/plain": [
       "({}, dict, 0)"
      ]
     },
     "execution_count": 15,
     "metadata": {},
     "output_type": "execute_result"
    }
   ],
   "source": [
    "# 동적 구성.\n",
    "dic = dict()\n",
    "dic, type(dic), len(dic)"
   ]
  },
  {
   "cell_type": "code",
   "execution_count": 16,
   "metadata": {
    "id": "w7PJH31D7Zbf"
   },
   "outputs": [
    {
     "data": {
      "text/plain": [
       "({'name': '부산대'}, dict, 1)"
      ]
     },
     "execution_count": 16,
     "metadata": {},
     "output_type": "execute_result"
    }
   ],
   "source": [
    "# 정적 구성.\n",
    "dic = { 'name' : '부산대' }\n",
    "dic, type(dic), len(dic)"
   ]
  },
  {
   "cell_type": "code",
   "execution_count": 17,
   "metadata": {
    "id": "_hHJwSgC7nE4"
   },
   "outputs": [
    {
     "data": {
      "text/plain": [
       "{'na': '미국', 'code': 'USD', 'buy': 1118.1, 'sell': 1110.1}"
      ]
     },
     "execution_count": 17,
     "metadata": {},
     "output_type": "execute_result"
    }
   ],
   "source": [
    "# 맴버 구성.\n",
    "# 키 : 값\n",
    "# 키는 함수를 제외하고는 모두 다 가능.\n",
    "# 주로, 문자열, 수치 등을 사용.\n",
    "# Java : Map, JS : 객체, ios : NSDictionary. 데이터 : json 등 동일 구조를 가짐.\n",
    "# 주로 [ {},{},{},{} ] 이런 구조를 주로 많이 사용.\n",
    "# 키는 고유함. 따라서 중복이 안됨.\n",
    "exchanges = {\n",
    "    'na':'미국',    \n",
    "    'code':'USD',\n",
    "    'buy':1118.10,\n",
    "    'sell':1110.10,\n",
    "}\n",
    "exchanges"
   ]
  },
  {
   "cell_type": "code",
   "execution_count": 18,
   "metadata": {
    "id": "pRdB-mLz7nHX"
   },
   "outputs": [
    {
     "data": {
      "text/plain": [
       "1118.1"
      ]
     },
     "execution_count": 18,
     "metadata": {},
     "output_type": "execute_result"
    }
   ],
   "source": [
    "# 인덱싱.\n",
    "# 0, 1, 2 와 같은 순서적 키가 없으므로 값을 대변하는 키를 넣어서 값을 취함. => 직관적.\n",
    "exchanges[ 'buy' ]"
   ]
  },
  {
   "cell_type": "code",
   "execution_count": 19,
   "metadata": {
    "id": "hV8zO-Ib7nJ0"
   },
   "outputs": [],
   "source": [
    "# 슬라이싱.\n",
    "# 존재하지 않음."
   ]
  },
  {
   "cell_type": "code",
   "execution_count": 20,
   "metadata": {
    "id": "ZdjBUC037nMV"
   },
   "outputs": [
    {
     "data": {
      "text/plain": [
       "{'na': '미국', 'code': 'USD', 'buy': 1119.1, 'sell': 1110.1}"
      ]
     },
     "execution_count": 20,
     "metadata": {},
     "output_type": "execute_result"
    }
   ],
   "source": [
    "# 수정.\n",
    "exchanges[ 'buy' ] = 1119.10\n",
    "exchanges"
   ]
  },
  {
   "cell_type": "code",
   "execution_count": 21,
   "metadata": {
    "id": "bJuYeXqQ9Sq0"
   },
   "outputs": [
    {
     "data": {
      "text/plain": [
       "1119.1"
      ]
     },
     "execution_count": 21,
     "metadata": {},
     "output_type": "execute_result"
    }
   ],
   "source": [
    "# 함수로 값을 추출.\n",
    "exchanges.get('buy')"
   ]
  },
  {
   "cell_type": "code",
   "execution_count": 23,
   "metadata": {
    "id": "6gT1gmqv9Swl"
   },
   "outputs": [],
   "source": [
    "# 해당 키가 없으면 셧다운 => 불안정적한 사용법.\n",
    "# exchanges['buy1']"
   ]
  },
  {
   "cell_type": "code",
   "execution_count": 22,
   "metadata": {
    "id": "ZYdFm7ai9St8"
   },
   "outputs": [
    {
     "name": "stdout",
     "output_type": "stream",
     "text": [
      "None\n"
     ]
    }
   ],
   "source": [
    "# 해당 키가 없어도 시스템이 종료되지 않음.(안정적)\n",
    "# None : 값이 없다, 할당이 안됨. 비유적으로 null\n",
    "# 데이터 분석으로 가면 NaN을 사용. => 분석에서는 결측치라고 함.\n",
    "print( exchanges.get('buy1') )"
   ]
  },
  {
   "cell_type": "code",
   "execution_count": 24,
   "metadata": {
    "id": "I7KiCb6U-Vyc"
   },
   "outputs": [
    {
     "data": {
      "text/plain": [
       "{'na': '미국', 'code': 'USD', 'buy': 1119.1, 'sell': 1110.1, 1: 100}"
      ]
     },
     "execution_count": 24,
     "metadata": {},
     "output_type": "execute_result"
    }
   ],
   "source": [
    "# 추가.\n",
    "# 딕셔너리에 데이터를 추가한다면 키와 값의 세트가 필요.\n",
    "# 1은 키, 100은 값을 의미함.\n",
    "exchanges[ 1 ] = 100\n",
    "exchanges"
   ]
  },
  {
   "cell_type": "markdown",
   "metadata": {
    "id": "7BWn0jFZzsV9"
   },
   "source": [
    "#### 튜플(Tuple)"
   ]
  },
  {
   "cell_type": "code",
   "execution_count": 25,
   "metadata": {
    "id": "BVAZ9IB6A1UF"
   },
   "outputs": [
    {
     "data": {
      "text/plain": [
       "((), tuple, 0)"
      ]
     },
     "execution_count": 25,
     "metadata": {},
     "output_type": "execute_result"
    }
   ],
   "source": [
    "# 동적 구성.\n",
    "tu = tuple()\n",
    "tu, type(tu), len(tu)"
   ]
  },
  {
   "cell_type": "code",
   "execution_count": 26,
   "metadata": {
    "id": "FsTZwTJOA1Wk"
   },
   "outputs": [
    {
     "data": {
      "text/plain": [
       "((1,), tuple, 1)"
      ]
     },
     "execution_count": 26,
     "metadata": {},
     "output_type": "execute_result"
    }
   ],
   "source": [
    "# 정적 구성.\n",
    "# 맴버수가 1개인 경우 , 그룹화 하는 연산자와 구분이 안됨.\n",
    "# 맴버가 1개면 ,를 넣어서 표식을 주어야함.\n",
    "tu = (1,)\n",
    "tu, type(tu), len(tu)"
   ]
  },
  {
   "cell_type": "code",
   "execution_count": 27,
   "metadata": {
    "id": "PQzLez9DA1Y2"
   },
   "outputs": [
    {
     "data": {
      "text/plain": [
       "(1, 2, 3, 4, 5)"
      ]
     },
     "execution_count": 27,
     "metadata": {},
     "output_type": "execute_result"
    }
   ],
   "source": [
    "tu = (1, 2, 3, 4, 5)\n",
    "tu"
   ]
  },
  {
   "cell_type": "code",
   "execution_count": 28,
   "metadata": {
    "id": "ekJ2xSF-A1bC"
   },
   "outputs": [
    {
     "data": {
      "text/plain": [
       "1"
      ]
     },
     "execution_count": 28,
     "metadata": {},
     "output_type": "execute_result"
    }
   ],
   "source": [
    "# 인덱싱.\n",
    "tu[0]"
   ]
  },
  {
   "cell_type": "code",
   "execution_count": 29,
   "metadata": {
    "id": "VvTaFbEIA1dG"
   },
   "outputs": [
    {
     "data": {
      "text/plain": [
       "(2,)"
      ]
     },
     "execution_count": 29,
     "metadata": {},
     "output_type": "execute_result"
    }
   ],
   "source": [
    "# 슬라이싱.\n",
    "tu[ 1 : 2 ]"
   ]
  },
  {
   "cell_type": "code",
   "execution_count": 30,
   "metadata": {
    "id": "v25YtnOSA1f3"
   },
   "outputs": [
    {
     "data": {
      "text/plain": [
       "(int, 1, 2, 3, 4, 5)"
      ]
     },
     "execution_count": 30,
     "metadata": {},
     "output_type": "execute_result"
    }
   ],
   "source": [
    "# 추가가 안됨 => readonly, immutable 수정/삭제불가, 읽기전용.\n",
    "# 용도는 단순하게 값을 묶음.\n",
    "# 함수의 리턴값이 여러 개일 경우, \n",
    "# 자동으로 튜플로 리턴됨.(리턴값을 나열하면) => 함수편에서 확인.\n",
    "# 튜플의 맴버수대로 변수를 나열해서 받아주면 => 분해.\n",
    "# 맴버들을 하나씩 각각 변수에 대입해서 분해됨.\n",
    "a, b, c, d, e = tu\n",
    "type(a), a, b, c, d, e"
   ]
  },
  {
   "cell_type": "code",
   "execution_count": 31,
   "metadata": {
    "id": "ldaQPXLQCgWf"
   },
   "outputs": [],
   "source": [
    "# 만약에 3번째 값은 사용할 일이 없을 경우.\n",
    "# 더미변수만 받아만 주고 사용은 안함 => _ 사용.\n",
    "a, b, _, d, e = tu"
   ]
  },
  {
   "cell_type": "code",
   "execution_count": 32,
   "metadata": {
    "id": "h48aHL3ACuBW"
   },
   "outputs": [
    {
     "data": {
      "text/plain": [
       "1"
      ]
     },
     "execution_count": 32,
     "metadata": {},
     "output_type": "execute_result"
    }
   ],
   "source": [
    "# 리스트도 분해가 가능. (배열, 객체 \"구조 분해\" : js에서는 부름)\n",
    "a, b, c = [1, 2, 3]\n",
    "a"
   ]
  },
  {
   "cell_type": "code",
   "execution_count": 33,
   "metadata": {
    "id": "0xrbUr_kCuEK"
   },
   "outputs": [
    {
     "name": "stdout",
     "output_type": "stream",
     "text": [
      "(1, 2, 4)\n"
     ]
    },
    {
     "data": {
      "text/plain": [
       "tuple"
      ]
     },
     "execution_count": 33,
     "metadata": {},
     "output_type": "execute_result"
    }
   ],
   "source": [
    "def test() :\n",
    "  # 함수에서 여러개의 값으로 리턴할때 => 튜플로 리턴됨.\n",
    "  return 1, 2, 4\n",
    "a = test()\n",
    "print(a)\n",
    "type(a)"
   ]
  },
  {
   "cell_type": "markdown",
   "metadata": {
    "id": "4zUhs-WDzuEt"
   },
   "source": [
    "#### 집합(Set)"
   ]
  },
  {
   "cell_type": "code",
   "execution_count": 34,
   "metadata": {
    "id": "qGV5ohQ2zZ_1"
   },
   "outputs": [
    {
     "data": {
      "text/plain": [
       "['h', 'e', 'l', 'l', 'o', 'w', 'o', 'r', 'l', 'd']"
      ]
     },
     "execution_count": 34,
     "metadata": {},
     "output_type": "execute_result"
    }
   ],
   "source": [
    "# 중복 제거할 대상으로부터 중복 제거를 함으로써 생성.\n",
    "a = list( 'helloworld' )\n",
    "a"
   ]
  },
  {
   "cell_type": "code",
   "execution_count": 35,
   "metadata": {
    "id": "2Om9fKqTDz9i"
   },
   "outputs": [
    {
     "data": {
      "text/plain": [
       "['w', 'e', 'l', 'r', 'o', 'd', 'h']"
      ]
     },
     "execution_count": 35,
     "metadata": {},
     "output_type": "execute_result"
    }
   ],
   "source": [
    "# 순서 없이 고유한 값만 추출\n",
    "a = list( set(a) )\n",
    "a"
   ]
  },
  {
   "cell_type": "code",
   "execution_count": 36,
   "metadata": {
    "id": "nHw9bJx-D7LB"
   },
   "outputs": [
    {
     "data": {
      "text/plain": [
       "['d', 'e', 'h', 'l', 'o', 'r', 'w']"
      ]
     },
     "execution_count": 36,
     "metadata": {},
     "output_type": "execute_result"
    }
   ],
   "source": [
    "# 알파벳 순으로 정렬.\n",
    "a.sort()\n",
    "a"
   ]
  },
  {
   "cell_type": "code",
   "execution_count": 37,
   "metadata": {
    "id": "KbWppx9dEPJK"
   },
   "outputs": [],
   "source": [
    "# C/C++로 모듈을 만들고 Cython으로 연결하여 python으로 api를 생성.\n",
    "# 느려서 잘 사용하지 않음. (set)\n",
    "# 합집합\n",
    "# 교집합\n",
    "# 차지합"
   ]
  },
  {
   "cell_type": "code",
   "execution_count": 38,
   "metadata": {
    "id": "q3ZsSPiNE2y8"
   },
   "outputs": [
    {
     "data": {
      "text/plain": [
       "({2, 3, 4, 5, 6, 43, 76}, {2, 3, 4, 5, 6, 7, 100})"
      ]
     },
     "execution_count": 38,
     "metadata": {},
     "output_type": "execute_result"
    }
   ],
   "source": [
    "a = set([4,5,2,5,6,43,2,5,76,5,4,3])\n",
    "b = set([5,6,7,4,3,2,100,7,4])\n",
    "a, b"
   ]
  },
  {
   "cell_type": "code",
   "execution_count": 39,
   "metadata": {
    "id": "8IUMqZCnE5j7"
   },
   "outputs": [
    {
     "data": {
      "text/plain": [
       "{2, 3, 4, 5, 6, 7, 43, 76, 100}"
      ]
     },
     "execution_count": 39,
     "metadata": {},
     "output_type": "execute_result"
    }
   ],
   "source": [
    "# 합집합.\n",
    "a.union(b)"
   ]
  },
  {
   "cell_type": "code",
   "execution_count": 40,
   "metadata": {
    "id": "TlRTlAheE5mr"
   },
   "outputs": [
    {
     "data": {
      "text/plain": [
       "{2, 3, 4, 5, 6}"
      ]
     },
     "execution_count": 40,
     "metadata": {},
     "output_type": "execute_result"
    }
   ],
   "source": [
    "# 교집합.\n",
    "a.intersection(b)"
   ]
  },
  {
   "cell_type": "code",
   "execution_count": 41,
   "metadata": {
    "id": "l_b-WToVE5qg"
   },
   "outputs": [
    {
     "data": {
      "text/plain": [
       "({43, 76}, {7, 100})"
      ]
     },
     "execution_count": 41,
     "metadata": {},
     "output_type": "execute_result"
    }
   ],
   "source": [
    "# 차집합.(방향성)\n",
    "a.difference(b), b.difference(a)"
   ]
  }
 ],
 "metadata": {
  "colab": {
   "authorship_tag": "ABX9TyP5YZOGVfVoGTKDnlfaXLZT",
   "collapsed_sections": [],
   "name": "4.연속데이터형_리스트_딕셔너리_튜플_집합.ipynb",
   "private_outputs": true,
   "provenance": []
  },
  "kernelspec": {
   "display_name": "Python 3",
   "language": "python",
   "name": "python3"
  },
  "language_info": {
   "codemirror_mode": {
    "name": "ipython",
    "version": 3
   },
   "file_extension": ".py",
   "mimetype": "text/x-python",
   "name": "python",
   "nbconvert_exporter": "python",
   "pygments_lexer": "ipython3",
   "version": "3.7.6"
  }
 },
 "nbformat": 4,
 "nbformat_minor": 1
}
