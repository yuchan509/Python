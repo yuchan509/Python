{
 "cells": [
  {
   "cell_type": "markdown",
   "metadata": {
    "id": "tjJWZZYFGNGU"
   },
   "source": [
    "#### Booleen\n",
    "- 값: 참(True), 거짓(False)\n",
    "- False 상황을 기억할 것.\n",
    "  - 조건문에 다음의 값이 존재하거나, 결론이 다음 값이면 False.\n",
    "  - 0, 0.0, '', [], {}, (), None, NaN\n",
    "    - 조건식의 표현이 간결.\n",
    "    - 값이 비어 있음.\n",
    "  - 기타 조건식에 의해서 False가 나오는 경우."
   ]
  },
  {
   "cell_type": "markdown",
   "metadata": {
    "id": "z8H3nOlwGNbH"
   },
   "source": [
    "#### if, elif, else\n",
    "- 만약 xx라면, xx해라.\n",
    "- 만약 xx이면, xx하고, xx이면 xx하고...\n",
    "- 가정이 들어가고, 케이스가 존재함."
   ]
  },
  {
   "cell_type": "markdown",
   "metadata": {
    "id": "bOJ7BB3uGbi-"
   },
   "source": [
    "#### 흐름제어\n",
    "- Code의 흐름을 컨트롤.\n",
    "- 분기, 반복 등 작업을 수행하여 SW의 결론에 도달하는 방식.\n",
    "- 조건문에서 판단을 통해서 분기를 수행.\n",
    "  - 판단의 결과는 무조건 True/False"
   ]
  },
  {
   "cell_type": "code",
   "execution_count": null,
   "metadata": {
    "id": "x1w61UU_V7PW"
   },
   "outputs": [],
   "source": [
    "# 현재 커피숍이다. 커피를 구매하고 결제를 할려는 상황이다\n",
    "# 직원이 물어본다. 1500원입니다. \n",
    "coffee_price = input(\"구매하신 커피는 1500원입니다.\")\n",
    "coffee_price"
   ]
  },
  {
   "cell_type": "code",
   "execution_count": null,
   "metadata": {
    "id": "YYJYJmHaaTlv"
   },
   "outputs": [],
   "source": [
    "# input()을 통해서 입력받은 데이터는 무조건 문자열이다\n",
    "type(coffee_price)"
   ]
  },
  {
   "cell_type": "code",
   "execution_count": null,
   "metadata": {
    "id": "vC260RO0adwO"
   },
   "outputs": [],
   "source": [
    "# 문자열 -> 수치로\n",
    "# 단, 수치로 될수 없는 표시들은 제거, 다시 입력받아야 한다\n",
    "coffee_price = int(coffee_price)\n",
    "type(coffee_price)"
   ]
  },
  {
   "cell_type": "markdown",
   "metadata": {
    "id": "JYp_wHJSd37c"
   },
   "source": [
    "#### 기본 if문"
   ]
  },
  {
   "cell_type": "code",
   "execution_count": null,
   "metadata": {
    "id": "UC7JG4FJV7Uk"
   },
   "outputs": [],
   "source": [
    "# 포스에서 계산, 케이스는 현금 결제모드 3개\n",
    "# (과하게, 딱맞게, 부족하게 입금) => 케이스별로 액션이 다름.\n",
    "# 조건에 맞춰서 분기.\n",
    "# : => 코드블럭이 시작 => 타언어 {  statements,... }\n",
    "# 돈을 더 많이 주었을 경우.\n",
    "if 조건 : \n",
    "    # 파이썬의 들여쓰기는 Tab으로 밀어줌.\n",
    "    # pass는 포지션을 차지하고는데, 아무일도 하지 않음.\n",
    "    # 조건문, 반복문, 함수, 클래스 등을 잡을 때 사용.\n",
    "    pass\n",
    "\n",
    "elif 조건 :\n",
    "    pass\n",
    "\n",
    "else :\n",
    "    pass"
   ]
  },
  {
   "cell_type": "code",
   "execution_count": 3,
   "metadata": {
    "id": "11MtC9_oV7XQ"
   },
   "outputs": [
    {
     "name": "stdout",
     "output_type": "stream",
     "text": [
      "부족한 금액이 1000원 입니다.\n"
     ]
    }
   ],
   "source": [
    "# 비교연산자 : >, <, >=, <=, ==, !=\n",
    "# 비트연산자 : not, and, or\n",
    "# 퍼포먼스를 고려하여 가장 많은 케이스를 먼저 표시.\n",
    "coffee_price = 500\n",
    "\n",
    "# 상수처럼 취급.\n",
    "# 환경변수.\n",
    "COFFEE_ICE_PRICE = 1500\n",
    "\n",
    "# 돈을 더 많이 주었을 경우.\n",
    "if coffee_price > COFFEE_ICE_PRICE :   \n",
    "    print(f'거스름돈이 {coffee_price-COFFEE_ICE_PRICE}원 입니다.')\n",
    "    pass\n",
    "\n",
    "# 같은 가격을 입력받았을 경우.\n",
    "elif coffee_price == COFFEE_ICE_PRICE : \n",
    "    print('안녕히 가세요')\n",
    "    pass\n",
    "\n",
    "# 부족할 경우.\n",
    "else :\n",
    "    print(f'부족한 금액이 {COFFEE_ICE_PRICE-coffee_price}원 입니다.')\n",
    "    pass"
   ]
  },
  {
   "cell_type": "markdown",
   "metadata": {
    "id": "pioOODnYdswE"
   },
   "source": [
    "#### 부정상황 잡기"
   ]
  },
  {
   "cell_type": "code",
   "execution_count": 6,
   "metadata": {
    "id": "QNH5kiYhV7Zo"
   },
   "outputs": [
    {
     "name": "stdout",
     "output_type": "stream",
     "text": [
      "중단중\n"
     ]
    }
   ],
   "source": [
    "# 비트 연산중 부정을 잡는 조건문 => not\n",
    "# 안되는 것, False 상황을 잡는 케이스.\n",
    "isRunning = False\n",
    "\n",
    "# 코드블럭의 수행문이 1개이면 옆으로 나열 가능.\n",
    "# 1줄에 수행문에 ;이라는 구분자를 쓰면 여러개를 나열할 수 있음.\n",
    "if isRunning : print('가동중'); \n",
    "else : print('중단중')"
   ]
  },
  {
   "cell_type": "code",
   "execution_count": 7,
   "metadata": {
    "id": "RcAp_acnV7cD"
   },
   "outputs": [
    {
     "name": "stdout",
     "output_type": "stream",
     "text": [
      "중단중\n"
     ]
    }
   ],
   "source": [
    "# 중단중임을 먼저 확인하고 싶음.\n",
    "# 즉, 부정적인 상황을 먼저 확인하고 싶음.\n",
    "if not isRunning:\n",
    "    print('중단중')"
   ]
  },
  {
   "cell_type": "markdown",
   "metadata": {
    "id": "xsa-rHc7dqO-"
   },
   "source": [
    "#### 비트연산"
   ]
  },
  {
   "cell_type": "code",
   "execution_count": null,
   "metadata": {
    "id": "3_zrAEi6V7ek"
   },
   "outputs": [],
   "source": [
    "# 비트연산 \n",
    "# and는 모든 상황이 참이여야만 참이다\n",
    "True and True, True and False, False and True, False and False"
   ]
  },
  {
   "cell_type": "code",
   "execution_count": null,
   "metadata": {
    "id": "iaN5xYkMdflY"
   },
   "outputs": [],
   "source": [
    "# or는 하나라도 참이면 다 참이다\n",
    "True or True, True or False, False or True, False or False"
   ]
  },
  {
   "cell_type": "markdown",
   "metadata": {
    "id": "GMBWqeC0d--b"
   },
   "source": [
    "#### 삼항연산자\n",
    "- Python은 공식적으로 삼항 연산자를 지원하지 않음 => ( 조건 ? 참일 때 값 : 거짓일 때 값: )\n",
    "- Python은 대체해서 사용.\n",
    "- 조건 : 상황이 2개인 경우 해당."
   ]
  },
  {
   "cell_type": "code",
   "execution_count": 8,
   "metadata": {
    "id": "gScyqSQ_eDGk"
   },
   "outputs": [],
   "source": [
    "a = 1500\n",
    "b = 1600"
   ]
  },
  {
   "cell_type": "code",
   "execution_count": 10,
   "metadata": {},
   "outputs": [
    {
     "data": {
      "text/plain": [
       "'거스름돈은 100원 입니다'"
      ]
     },
     "execution_count": 10,
     "metadata": {},
     "output_type": "execute_result"
    }
   ],
   "source": [
    "# 방식 1.\n",
    "# 변수 = 조건 and 참일 때 or 거짓일 때\n",
    "msg = b >= a and f'거스름돈은 {b-a}원 입니다.' or f'{a-b}원 부족합니다.'\n",
    "msg"
   ]
  },
  {
   "cell_type": "code",
   "execution_count": 11,
   "metadata": {
    "id": "3sQctSHefH37"
   },
   "outputs": [
    {
     "data": {
      "text/plain": [
       "'거스름돈은 100원 입니다'"
      ]
     },
     "execution_count": 11,
     "metadata": {},
     "output_type": "execute_result"
    }
   ],
   "source": [
    "# 방식 2.\n",
    "# 변수 = 참일 때 값 if 조건 else 거짓일 때 값\n",
    "msg = f'거스름돈은 {b-a}원 입니다' if b >= a else f'{a-b} 부족합니다.'\n",
    "msg"
   ]
  },
  {
   "cell_type": "code",
   "execution_count": 12,
   "metadata": {
    "id": "-YT9nFg6j4iw"
   },
   "outputs": [
    {
     "data": {
      "text/plain": [
       "(True, False)"
      ]
     },
     "execution_count": 12,
     "metadata": {},
     "output_type": "execute_result"
    }
   ],
   "source": [
    "# 조건문.\n",
    "# in을 조건문에 사용하면 연속 데이터 타입의 맴버를 조사.\n",
    "a = [1, 2, 3]\n",
    "2 in a, 5 in a"
   ]
  },
  {
   "cell_type": "markdown",
   "metadata": {
    "id": "wWTfskfjjfEw"
   },
   "source": [
    "#### 반복문\n",
    "- for : 특정한(지정된) 횟수 만큼 반복.\n",
    "\n",
    "- while : 언제 끝날지 모를 경우.( 0 ~ 무한대 )\n",
    " "
   ]
  },
  {
   "cell_type": "markdown",
   "metadata": {
    "id": "fXgia_u_GNra"
   },
   "source": [
    "#### for문\n",
    "- for ~ index 방식 미지원, for ~ each(in) 방식 지원.\n",
    "- Python은 for ~ each만 지원."
   ]
  },
  {
   "cell_type": "code",
   "execution_count": 13,
   "metadata": {
    "id": "PWpo2tB5kW2g"
   },
   "outputs": [
    {
     "name": "stdout",
     "output_type": "stream",
     "text": [
      "1\n",
      "2\n",
      "3\n",
      "4\n",
      "5\n"
     ]
    }
   ],
   "source": [
    "# 연속데이터 타입의 변수명은 복수로 묘사.\n",
    "items = [1, 2, 3, 4, 5]\n",
    "\n",
    "# 아이템스 안에서 아이템을 1개씩 순서대로 츨력.\n",
    "for item in items :\n",
    "    print( item )"
   ]
  },
  {
   "cell_type": "code",
   "execution_count": 15,
   "metadata": {
    "id": "P-2WqjxKk1FV"
   },
   "outputs": [
    {
     "name": "stdout",
     "output_type": "stream",
     "text": [
      "(1, 2)\n",
      "(3, 4)\n",
      "(5, 6)\n",
      "2\n",
      "4\n",
      "6\n"
     ]
    }
   ],
   "source": [
    "items = [(1,2), (3,4), (5,6)]\n",
    "\n",
    "# 한개씩 뽑아서 출력.\n",
    "for item in items :\n",
    "    print( item )\n",
    "\n",
    "# 값들을 직접 변수로 받아서 데이터를 획득.\n",
    "# 앞에 값은 필요가 없고, 뒤에 값만 필요할 경우.\n",
    "for _, b in items :\n",
    "    print( b )"
   ]
  },
  {
   "cell_type": "code",
   "execution_count": 16,
   "metadata": {
    "id": "0Mxsh98rk1II"
   },
   "outputs": [
    {
     "data": {
      "text/plain": [
       "[{'code': 'USD', 'buy': 1118.11}, {'code': 'EUR', 'buy': 1318}]"
      ]
     },
     "execution_count": 16,
     "metadata": {},
     "output_type": "execute_result"
    }
   ],
   "source": [
    "# 환율 데이터.\n",
    "exchanges = [\n",
    "   {\n",
    "      'code':'USD',\n",
    "      'buy':1118.11\n",
    "   },\n",
    "   {\n",
    "      'code':'EUR',\n",
    "      'buy':1318\n",
    "   }\n",
    "]\n",
    "exchanges"
   ]
  },
  {
   "cell_type": "code",
   "execution_count": 17,
   "metadata": {
    "id": "iHtcW7Vdn4Tx"
   },
   "outputs": [
    {
     "name": "stdout",
     "output_type": "stream",
     "text": [
      "USD를 구매할때,   한화로 1118.11원이 필요합니다.\n",
      "EUR를 구매할때,   한화로 1318원이 필요합니다.\n"
     ]
    }
   ],
   "source": [
    "# 데이터를 돌면서, \n",
    "# ex) \"USD를 구매할때, 한화로 1318원이 필요합니다.\" 이렇게 출력.\n",
    "for exchange in exchanges :\n",
    "    \n",
    "  # 딕셔너리에서 키를 넣어서 값을 추출. => 인덱싱\n",
    "  # 인덱싱 => 변수[ 키 ]\n",
    "  # 문자열이나 코드가 길어져서 내려친다면, \\을 표현하여 이어짐을 표시.\n",
    "\n",
    "  print( f\"{ exchange[ 'code' ] }를 구매할때, \\\n",
    "  한화로 {exchange[ 'buy' ]}원이 필요합니다.\" )"
   ]
  },
  {
   "cell_type": "code",
   "execution_count": 18,
   "metadata": {
    "id": "GrLW7flGrzQu"
   },
   "outputs": [
    {
     "data": {
      "text/plain": [
       "{'code': 'USD', 'buy': 1118.11}"
      ]
     },
     "execution_count": 18,
     "metadata": {},
     "output_type": "execute_result"
    }
   ],
   "source": [
    "# 딕셔너리 : key와 value.\n",
    "exchanges[0]"
   ]
  },
  {
   "cell_type": "code",
   "execution_count": 19,
   "metadata": {
    "id": "j3mQ-7aXk1KW"
   },
   "outputs": [
    {
     "name": "stdout",
     "output_type": "stream",
     "text": [
      "code\n",
      "buy\n"
     ]
    }
   ],
   "source": [
    "# 딕셔너리 데이터를 for으로 사용해 보면 키값이 출력.\n",
    "for dic in exchanges[0] :\n",
    "    print( dic )"
   ]
  },
  {
   "cell_type": "code",
   "execution_count": 20,
   "metadata": {
    "id": "uyc1Au6mk1M5"
   },
   "outputs": [
    {
     "name": "stdout",
     "output_type": "stream",
     "text": [
      "USD\n",
      "1118.11\n"
     ]
    }
   ],
   "source": [
    "for key in exchanges[0] :\n",
    "    # 값을 출력하고자 한다면\n",
    "    print( exchanges[0][ key ] )"
   ]
  },
  {
   "cell_type": "code",
   "execution_count": 21,
   "metadata": {
    "id": "N3CeJUrcsgcX"
   },
   "outputs": [
    {
     "name": "stdout",
     "output_type": "stream",
     "text": [
      "USD\n",
      "1118.11\n"
     ]
    }
   ],
   "source": [
    "tmp = exchanges[0]\n",
    "for key in tmp :\n",
    "  # 값을 출력.\n",
    "  print( tmp[ key ] )"
   ]
  },
  {
   "cell_type": "code",
   "execution_count": 23,
   "metadata": {
    "id": "8Ad-xDdjtNnH"
   },
   "outputs": [
    {
     "data": {
      "text/plain": [
       "dict_items([('code', 'USD'), ('buy', 1118.11)])"
      ]
     },
     "execution_count": 23,
     "metadata": {},
     "output_type": "execute_result"
    }
   ],
   "source": [
    "# [  (키,값), (키,값),... ]\n",
    "tmp.items()"
   ]
  },
  {
   "cell_type": "code",
   "execution_count": 24,
   "metadata": {
    "id": "0bsXD6Kls2eZ"
   },
   "outputs": [
    {
     "name": "stdout",
     "output_type": "stream",
     "text": [
      "code USD\n",
      "buy 1118.11\n"
     ]
    }
   ],
   "source": [
    "# 딕셔너리 값을 좀 더 심플하게, 키와 값을 추출.\n",
    "for k, v in tmp.items() :\n",
    "    print( k, v )"
   ]
  },
  {
   "cell_type": "code",
   "execution_count": 25,
   "metadata": {
    "id": "KX6APmevuGAa"
   },
   "outputs": [
    {
     "name": "stdout",
     "output_type": "stream",
     "text": [
      "0 code USD\n",
      "1 buy 1118.11\n"
     ]
    }
   ],
   "source": [
    "# 만약 딕셔너리 데이터에서 인덱스를 사용하고 싶다면 n개의 데이터를 같이 반복문에서 사용할 경우.\n",
    "# enumerate() : 내장함수, 인덱스를 부여하여 맴버를 추출.\n",
    "# 딕셔너리는 순서가 없기 때문에 키가 나오는 순서대로 임의로 인덱스를 붙인다(0, 1, 2, ...)\n",
    "\n",
    "for index, key in enumerate(tmp):  \n",
    "    print( index, key, tmp[ key ])\n",
    " "
   ]
  },
  {
   "cell_type": "code",
   "execution_count": 26,
   "metadata": {
    "id": "n_unItaNyWmv"
   },
   "outputs": [
    {
     "name": "stdout",
     "output_type": "stream",
     "text": [
      "0\n",
      "2\n",
      "4\n",
      "6\n",
      "8\n"
     ]
    }
   ],
   "source": [
    "# 연속된 수를 나열하는 range()\n",
    "# x <= n < y : stop 부분은 포함되지 않음.\n",
    "# 기본 step(값이 증가하는 간격)은  1임.\n",
    "# for n in range( 1, 10 ) => 1 ~ 9\n",
    "# for n in range( 10 ) => 0 ~ 9 \n",
    "\n",
    "# 0, 2, 4, 6, 8 \n",
    "for n in range( 0, 10, 2 ) :\n",
    "    print( n )"
   ]
  },
  {
   "cell_type": "code",
   "execution_count": 29,
   "metadata": {
    "id": "lJjeDq8WzoNy"
   },
   "outputs": [
    {
     "name": "stdout",
     "output_type": "stream",
     "text": [
      "n=0, m=0 bit연산 => 0, 0, 0\n",
      "n=0, m=1 bit연산 => 0, 1, 1\n",
      "n=1, m=0 bit연산 => 0, 1, 1\n",
      "n=1, m=1 bit연산 => 1, 1, 0\n"
     ]
    }
   ],
   "source": [
    "# range()를 활용한 비트연산. ( 0 or 1)\n",
    "# \"0, 0, bit연산 => 0 and 0, 0 or 0, 0 xor 0\" <= 출력값.\n",
    "# \"0, 1, bit연산 => and, or, xor\" <= 출력값.\n",
    "# \"1, 0, bit연산 => and, or, xor\" <= 출력값.\n",
    "# \"1, 1, bit연산 => and, or, xor\" <= 출력값.\n",
    "# 2중 for문 케이스 => 모든 케이스를 만들때.\n",
    "\n",
    "for n in range(2) :   # 0,1\n",
    "    for m in range(2) : # 0,1\n",
    "        print( f'n={n}, m={m} bit연산 => {n and m}, {n or m}, {n ^ m}' )"
   ]
  },
  {
   "cell_type": "code",
   "execution_count": 32,
   "metadata": {
    "id": "cRhOi0JTzjpo"
   },
   "outputs": [
    {
     "name": "stdout",
     "output_type": "stream",
     "text": [
      "3 x 1 =  3\n",
      "3 x 2 =  6\n",
      "3 x 3 =  9\n",
      "3 x 4 =  12\n",
      "3 x 5 =  15\n",
      "3 x 6 =  18\n",
      "3 x 7 =  21\n",
      "3 x 8 =  24\n",
      "3 x 9 =  27\n",
      "4 x 1 =  4\n",
      "4 x 2 =  8\n",
      "4 x 3 =  12\n",
      "4 x 4 =  16\n",
      "4 x 5 =  20\n",
      "4 x 6 =  24\n",
      "4 x 7 =  28\n",
      "4 x 8 =  32\n",
      "4 x 9 =  36\n",
      "5 x 1 =  5\n",
      "5 x 2 =  10\n",
      "5 x 3 =  15\n",
      "5 x 4 =  20\n",
      "5 x 5 =  25\n",
      "5 x 6 =  30\n",
      "5 x 7 =  35\n",
      "5 x 8 =  40\n",
      "5 x 9 =  45\n"
     ]
    }
   ],
   "source": [
    "# 구구단 3단 ~ 5단까지 구현.\n",
    "# 출력내용 \"3 x 1 = 3, ...5 x 9 = 45\"\n",
    "# 앞자리 3 ~ 5, 뒷자리 1 ~ 9\n",
    "for n in range(3, 5 + 1) :\n",
    "    for m in range(1, 9 + 1) :\n",
    "        print(f'{n} x {m} = {n * m: > 2}')"
   ]
  },
  {
   "cell_type": "code",
   "execution_count": 33,
   "metadata": {
    "id": "dj23Srht3lnU"
   },
   "outputs": [
    {
     "name": "stdout",
     "output_type": "stream",
     "text": [
      "3 x 1 =  3\n",
      "3 x 2 =  6\n",
      "3 x 3 =  9\n",
      "3 x 4 =  12\n",
      "3 x 5 =  15\n",
      "3 x 6 =  18\n",
      "3 x 7 =  21\n",
      "3 x 8 =  24\n",
      "3 x 9 =  27\n",
      "5 x 1 =  5\n",
      "5 x 2 =  10\n",
      "5 x 3 =  15\n",
      "5 x 4 =  20\n",
      "5 x 5 =  25\n",
      "5 x 6 =  30\n",
      "5 x 7 =  35\n",
      "5 x 8 =  40\n",
      "5 x 9 =  45\n"
     ]
    }
   ],
   "source": [
    "# 3단, 5단만 출력.\n",
    "for n in range(3, 5 + 1, 2) :\n",
    "    for m in range(1, 9 + 1) :\n",
    "        print(f'{n} x {m} = {n*m: > 2}')"
   ]
  },
  {
   "cell_type": "code",
   "execution_count": 36,
   "metadata": {
    "id": "7f8iI9ge5YiN"
   },
   "outputs": [
    {
     "data": {
      "text/plain": [
       "['3 x 1 =  3',\n",
       " '3 x 2 =  6',\n",
       " '3 x 3 =  9',\n",
       " '3 x 4 = 12',\n",
       " '3 x 5 = 15',\n",
       " '3 x 6 = 18',\n",
       " '3 x 7 = 21',\n",
       " '3 x 8 = 24',\n",
       " '3 x 9 = 27',\n",
       " '5 x 1 =  5',\n",
       " '5 x 2 = 10',\n",
       " '5 x 3 = 15',\n",
       " '5 x 4 = 20',\n",
       " '5 x 5 = 25',\n",
       " '5 x 6 = 30',\n",
       " '5 x 7 = 35',\n",
       " '5 x 8 = 40',\n",
       " '5 x 9 = 45']"
      ]
     },
     "execution_count": 36,
     "metadata": {},
     "output_type": "execute_result"
    }
   ],
   "source": [
    "# 결과는 모두 리스트에 모두 담기.\n",
    "# 1. 담을 그릇을 준비 => 리스트\n",
    "results = list() #[]\n",
    "\n",
    "for n in range(3, 5 + 1, 2) :\n",
    "    for m in range(1, 9+1):\n",
    "    \n",
    "    # 2. 리스트 멤버에 담기.\n",
    "        results.append(f'{n} x {m} = {n*m:>2}')\n",
    "    \n",
    "# 3. 확인.\n",
    "len( results )\n",
    "results"
   ]
  },
  {
   "cell_type": "code",
   "execution_count": 39,
   "metadata": {
    "id": "9PtqwLh75C7G"
   },
   "outputs": [
    {
     "data": {
      "text/plain": [
       "['3 x 1 =  3',\n",
       " '3 x 2 =  6',\n",
       " '3 x 3 =  9',\n",
       " '3 x 4 = 12',\n",
       " '3 x 5 = 15',\n",
       " '3 x 6 = 18',\n",
       " '3 x 7 = 21',\n",
       " '3 x 8 = 24',\n",
       " '3 x 9 = 27',\n",
       " '5 x 1 =  5',\n",
       " '5 x 2 = 10',\n",
       " '5 x 3 = 15',\n",
       " '5 x 4 = 20',\n",
       " '5 x 5 = 25',\n",
       " '5 x 6 = 30',\n",
       " '5 x 7 = 35',\n",
       " '5 x 8 = 40',\n",
       " '5 x 9 = 45']"
      ]
     },
     "execution_count": 39,
     "metadata": {},
     "output_type": "execute_result"
    }
   ],
   "source": [
    "# 위 구구단 구현 코드를 한줄로 표현.\n",
    "# 결과를 중심으로 코드를 구성.\n",
    "# 리스트 내포, 딕셔너리 내포,...\n",
    "[ f'{n} x {m} = {n*m:>2}' \n",
    "  for n in range(3, 5+1, 2)\n",
    "  for m in range(1, 9+1) if m > 0\n",
    "  ]"
   ]
  },
  {
   "cell_type": "markdown",
   "metadata": {
    "id": "bVYOAEW7GN7T"
   },
   "source": [
    "#### while\n",
    "- 0 ~ 무한대의 수행 횟수를 가진 반복문.\n",
    "- 타언어는 1 ~ 무한대도 있음. (do ~ while)\n",
    "- 언제 끝날지 모르는 것이 특징."
   ]
  },
  {
   "cell_type": "code",
   "execution_count": 46,
   "metadata": {
    "id": "2iENy93axN9i"
   },
   "outputs": [
    {
     "data": {
      "text/plain": [
       "([1, 2, 3, 4, 5], 5)"
      ]
     },
     "execution_count": 46,
     "metadata": {},
     "output_type": "execute_result"
    }
   ],
   "source": [
    "a = [1, 2, 3, 4, 5]\n",
    "a, len(a)"
   ]
  },
  {
   "cell_type": "code",
   "execution_count": 47,
   "metadata": {
    "id": "nfmKbMf0xOCH"
   },
   "outputs": [
    {
     "name": "stdout",
     "output_type": "stream",
     "text": [
      "5\n",
      "4\n",
      "3\n",
      "2\n",
      "1\n"
     ]
    }
   ],
   "source": [
    "'''\n",
    "  while 조건:\n",
    "    여러줄의 수행문(statements)\n",
    "'''\n",
    "# a의 맴버가 없어질 때까지 반복해서 => a의 맴버가 존재하면, 맴버수가 0보다 크면\n",
    "# 반복할 때 각 맴버를 추출하여 출력.\n",
    "\n",
    "while len(a) > 0 :\n",
    "    # 맴버를 뒤에서 혹은 앞에서 추출하여 출력하는 전제가 없으므로 pop() 사용해도 무방.\n",
    "      print( a.pop() )"
   ]
  },
  {
   "cell_type": "code",
   "execution_count": 48,
   "metadata": {
    "id": "PACAbwR7xOIf"
   },
   "outputs": [
    {
     "name": "stdout",
     "output_type": "stream",
     "text": [
      "5\n",
      "4\n",
      "3\n",
      "2\n",
      "1\n"
     ]
    }
   ],
   "source": [
    "# Python이라면 좀 더 줄일 수 있지 않을까? => 조건문의 결론 : True or False\n",
    "# False로 판단되는 상황 => 0, 0.0, '', [], {}, (), None, NaN, 기타 조건 상황.\n",
    "# a는 정체가 => []\n",
    "# 맴버가 존재할 때까지라는 조건문이 나왔으므로\n",
    "a = [1, 2, 3, 4, 5]\n",
    "while a :\n",
    "    print( a.pop() )"
   ]
  },
  {
   "cell_type": "code",
   "execution_count": 52,
   "metadata": {
    "id": "4F5GGmboxOF5"
   },
   "outputs": [
    {
     "name": "stdout",
     "output_type": "stream",
     "text": [
      "위에서 조건 체크하고, 조건을 만족하면, 코드블럭이 수행\n",
      "총맴버수 5\n",
      "5\n",
      "총맴버수 4\n",
      "-------------------------------------------------------\n",
      "위에서 조건 체크하고, 조건을 만족하면, 코드블럭이 수행\n",
      "총맴버수 4\n",
      "4\n",
      "총맴버수 3\n",
      "-------------------------------------------------------\n",
      "위에서 조건 체크하고, 조건을 만족하면, 코드블럭이 수행\n",
      "총맴버수 3\n",
      "3\n",
      "총맴버수 2\n",
      "-------------------------------------------------------\n",
      "위에서 조건 체크하고, 조건을 만족하면, 코드블럭이 수행\n",
      "총맴버수 2\n",
      "2\n",
      "총맴버수 1\n",
      "-------------------------------------------------------\n",
      "위에서 조건 체크하고, 조건을 만족하면, 코드블럭이 수행\n",
      "총맴버수 1\n",
      "1\n",
      "총맴버수 0\n",
      "-------------------------------------------------------\n"
     ]
    }
   ],
   "source": [
    "a = [1, 2, 3, 4, 5]\n",
    "while a :\n",
    "    print('위에서 조건 체크하고, 조건을 만족하면, 코드블럭이 수행')\n",
    "    print(f'총맴버수 {len(a)}')\n",
    "    print( a.pop() )\n",
    "    print(f'총맴버수 {len(a)}')\n",
    "    print('-'*55)"
   ]
  },
  {
   "cell_type": "code",
   "execution_count": 54,
   "metadata": {
    "id": "WtaoXuLsxOAV"
   },
   "outputs": [
    {
     "name": "stdout",
     "output_type": "stream",
     "text": [
      "5\n",
      "4\n",
      "3\n",
      "2\n",
      "1\n",
      "정상적으로 중간에 중단없이 반복문이 수행되었다는 것을 보증함.\n"
     ]
    }
   ],
   "source": [
    "# 반복문이 중간에 \"중단없이\" 모두 계획되로 반복했는지를 확인. => else\n",
    "# else는 for, while, try등에서 정상적으로 수행되었는지를 확인하는 표현.\n",
    "a = [1, 2, 3, 4, 5]\n",
    "while a :\n",
    "    print( a.pop() )\n",
    "else:\n",
    "    print( '정상적으로 중간에 중단없이 반복문이 수행되었다는 것을 보증함.' )"
   ]
  },
  {
   "cell_type": "markdown",
   "metadata": {
    "id": "Sx-DomNA1cG1"
   },
   "source": [
    "- break\n",
    "   - 통상 조건문과 함께, 혹은 단독으로 break를 사용하는 지점에서 반복문을 중단시킴.\n",
    "   - break는 자기를 둘러싸고 있는 가장 가까운 반복문을 빠져나감."
   ]
  },
  {
   "cell_type": "code",
   "execution_count": 53,
   "metadata": {
    "id": "g7TUlGRH0ykp"
   },
   "outputs": [
    {
     "name": "stdout",
     "output_type": "stream",
     "text": [
      "5\n",
      "정상적으로 중간에 중단없이 반복문이 수행되었다는 것을 보증함\n",
      "4\n",
      "정상적으로 중간에 중단없이 반복문이 수행되었다는 것을 보증함\n",
      "3\n"
     ]
    }
   ],
   "source": [
    "a = [1, 2, 3, 4, 5]\n",
    "while a :\n",
    "    print( a.pop() )\n",
    "    # 남은 맴버수가 2개가 되면 중단.\n",
    "    if len(a) == 2 :\n",
    "        break\n",
    "    else :\n",
    "        # 반복문이 중단되었기 때문에 여기로 진입하지 않음.\n",
    "        # else 구문은 필요시 사용.\n",
    "        print( '정상적으로 중간에 중단없이 반복문이 수행되었다는 것을 보증함.' )"
   ]
  },
  {
   "cell_type": "markdown",
   "metadata": {
    "id": "fYRzvOUQ1rXk"
   },
   "source": [
    "- continue\n",
    "  - 통상 조건문과 함께, 혹은 단독으로 continue를 사용하는 지점에서 반복문의 조건식으로 바로 점프함.\n",
    "  - continue를 둘러싸고 있는 가장 가까운 반복문으로 점프.\n",
    "  - 점프 후에는 바로 조건문 수행.\n",
    "  - while, for만 사용 가능."
   ]
  },
  {
   "cell_type": "code",
   "execution_count": 55,
   "metadata": {
    "id": "TzSradAj0yp-"
   },
   "outputs": [
    {
     "name": "stdout",
     "output_type": "stream",
     "text": [
      "정상적으로 중간에 중단없이 반복문이 수행되었다는 것을 보증함.\n",
      "정상적으로 중간에 중단없이 반복문이 수행되었다는 것을 보증함.\n",
      "정상적으로 중간에 중단없이 반복문이 수행되었다는 것을 보증함.\n"
     ]
    }
   ],
   "source": [
    "a = [1, 2, 3, 4, 5]\n",
    "while a:\n",
    "    tmp = a.pop() #변수 = a.pop()  \n",
    "    if tmp % 2 == 0 : # 짝수면\n",
    "        continue\n",
    "        print( tmp )  # print( 변수 )\n",
    "        \n",
    "    if len(a) == 1 :\n",
    "        break\n",
    "        \n",
    "    else :  \n",
    "      # 중간에 중단된 적이 없으므로 출력됨.(continue는 관계 없음)\n",
    "      print( '정상적으로 중간에 중단없이 반복문이 수행되었다는 것을 보증함.' )"
   ]
  }
 ],
 "metadata": {
  "colab": {
   "authorship_tag": "ABX9TyOyot9wXkszQqau/BifWGQ3",
   "collapsed_sections": [],
   "name": "5.블린_조건문_반복문_제어문_흐름제어.ipynb",
   "private_outputs": true,
   "provenance": []
  },
  "kernelspec": {
   "display_name": "Python 3",
   "language": "python",
   "name": "python3"
  },
  "language_info": {
   "codemirror_mode": {
    "name": "ipython",
    "version": 3
   },
   "file_extension": ".py",
   "mimetype": "text/x-python",
   "name": "python",
   "nbconvert_exporter": "python",
   "pygments_lexer": "ipython3",
   "version": "3.7.6"
  }
 },
 "nbformat": 4,
 "nbformat_minor": 1
}
