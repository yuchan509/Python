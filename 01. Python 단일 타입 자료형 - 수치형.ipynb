{
 "cells": [
  {
   "cell_type": "markdown",
   "metadata": {
    "id": "4QNmb7oW6b1i"
   },
   "source": [
    "#### 매직코드(Jupyer)\n",
    "- ! : 명령어\n",
    "- !ls : 현재 작업 환경(디렉토리 확인)\n",
    "- !python -V : 현재 개발 환경에서 파이썬의 버전 확인\n",
    "- !pip list : 현재 개발 환경에서 기본으로 설치 되어 있는 파이썬 패키지 확인"
   ]
  },
  {
   "cell_type": "markdown",
   "metadata": {
    "id": "323mm4QPcxhI"
   },
   "source": [
    "#### 객체를 확인하는 방법\n",
    "- 도트(.) 연산자 활용.\n",
    "- Colab 환경에서는 .을 입력하고 잠시 기다리면 인텔리전스가 작동하여 후보들이 자동을 나타남.(객체)\n",
    "- Anaconda jupyter 환경을 사용한다면 .을 입력후 Tab키를 누르면 나타남."
   ]
  },
  {
   "cell_type": "markdown",
   "metadata": {
    "id": "HeqJ8xMV9u4V"
   },
   "source": [
    "#### Python 단일 타입 자료형 \n",
    "- 수치형(정수, 부동소수), 블린형, 문자열\n",
    "- 변수\n",
    "  - 값을 담는 그릇을 의미.\n",
    "  - 단, Python에서는 데이터의 실체를 가르키는 주소를 가진 그릇.\n",
    "  - **파이썬은 모든 것이 객체이다**, 객체를 표현하는 변수는 주소만 가짐."
   ]
  },
  {
   "cell_type": "code",
   "execution_count": 1,
   "metadata": {
    "id": "_QFebyT88xwG"
   },
   "outputs": [],
   "source": [
    "# a는 1을 가지고 있음을 의미하는 것이 아니라, a는 1을 가르키고(참조하고) 있다는 의미.(주소값을 가지고 있다고 생각.)\n",
    "a = 1\n",
    "a"
   ]
  },
  {
   "cell_type": "code",
   "execution_count": 2,
   "metadata": {
    "id": "yb1eBc0MdTXe"
   },
   "outputs": [],
   "source": [
    "# 파이썬은 타입 추론형 언어 => 값이 변수에 설정될 때 타입이 결정. <-> 자바/c++/C# int a => 정수만 와야함.\n",
    "# 파이썬은 모든것이 객체. a는 1을 참조하고 있다가, a는 1.1를 참조하여 변경.(주소변경만)\n",
    "# a는 정수, 부동소수, 문자열, 함수, 객체 전부 다 가능.\n",
    "# 따라서 사전에 정의된 클래스, 내장함수, 외장함수 등의 이름을 변수로 사용하면 안됨.\n",
    "a = 1.1\n",
    "a"
   ]
  },
  {
   "cell_type": "code",
   "execution_count": 3,
   "metadata": {
    "id": "lveJ8rTNeXKV"
   },
   "outputs": [],
   "source": [
    "# str() : 문자열 생성 함수.\n",
    "str(1)"
   ]
  },
  {
   "cell_type": "code",
   "execution_count": 4,
   "metadata": {
    "id": "2jo54P2-ehgI"
   },
   "outputs": [],
   "source": [
    "str = \"2\"\n",
    "str"
   ]
  },
  {
   "cell_type": "code",
   "execution_count": 5,
   "metadata": {
    "id": "V0ljq41sellB"
   },
   "outputs": [
    {
     "ename": "TypeError",
     "evalue": "'str' object is not callable",
     "output_type": "error",
     "traceback": [
      "\u001b[1;31m---------------------------------------------------------------------------\u001b[0m",
      "\u001b[1;31mTypeError\u001b[0m                                 Traceback (most recent call last)",
      "\u001b[1;32m<ipython-input-5-d491d4398a59>\u001b[0m in \u001b[0;36m<module>\u001b[1;34m\u001b[0m\n\u001b[0;32m      1\u001b[0m \u001b[1;31m# str이라는 내장함수를 일반 변수로 바꾸어 버리는 바람에 이후에는 문자열 생성함수를 사용할수 없게 되어 버림.\u001b[0m\u001b[1;33m\u001b[0m\u001b[1;33m\u001b[0m\u001b[1;33m\u001b[0m\u001b[0m\n\u001b[1;32m----> 2\u001b[1;33m \u001b[0mstr\u001b[0m\u001b[1;33m(\u001b[0m\u001b[1;36m100\u001b[0m\u001b[1;33m)\u001b[0m\u001b[1;33m\u001b[0m\u001b[1;33m\u001b[0m\u001b[0m\n\u001b[0m",
      "\u001b[1;31mTypeError\u001b[0m: 'str' object is not callable"
     ]
    }
   ],
   "source": [
    "# str이라는 내장함수를 일반 변수로 바꾸어 버리는 바람에 이후에는 문자열 생성함수를 사용할수 없게 되어 버림.\n",
    "str(100)"
   ]
  },
  {
   "cell_type": "code",
   "execution_count": null,
   "metadata": {
    "id": "SfieG6F7fNmF"
   },
   "outputs": [],
   "source": [
    "# 변수 정의시 주의사항.\n",
    "# 사전에 정의된 용어를 사용하지 않도록 주의.\n",
    "# 기본 파이썬의 구문 주의사항.\n",
    "# 세로줄을 맞추기.(맨 앞에 바싹 붙여쓴다.)\n",
    "# 한칸 띄어서 작동 안함.\n",
    " a = 1"
   ]
  },
  {
   "cell_type": "code",
   "execution_count": null,
   "metadata": {
    "id": "wbNvRm2mfNo0"
   },
   "outputs": [],
   "source": [
    "# 수행문의 끝에는 ; 를 붙이지 않음.\n",
    "# 굳이 쓴다면 한줄에 여러 수행문 작성시 구분자로 사용.\n",
    "a = 2;print(a)"
   ]
  },
  {
   "cell_type": "code",
   "execution_count": null,
   "metadata": {
    "id": "lqH6ZtdVfNrM"
   },
   "outputs": [],
   "source": [
    "# 변수의 정체성 확인.\n",
    "a = 1\n",
    "a, type(a)"
   ]
  },
  {
   "cell_type": "code",
   "execution_count": null,
   "metadata": {
    "id": "8hvRRpS3fNuD"
   },
   "outputs": [],
   "source": [
    "a = 3.14\n",
    "a, type(a)"
   ]
  },
  {
   "cell_type": "code",
   "execution_count": null,
   "metadata": {
    "id": "gbFJe-nigW0b"
   },
   "outputs": [],
   "source": [
    "# 변수명의 사용 가능한 문자열.\n",
    "a = 1\n",
    "# _로 시작 가능.\n",
    "_b = 2\n",
    "a, _b"
   ]
  },
  {
   "cell_type": "code",
   "execution_count": null,
   "metadata": {
    "id": "oDNjTxMLgk7O"
   },
   "outputs": [],
   "source": [
    "# 숫자로는 시작할 수 없음. => 13_ab = 10\n",
    "# 단 숫자는 두번째 부터는 가능.\n",
    "a77 = 10\n",
    "a77"
   ]
  },
  {
   "cell_type": "code",
   "execution_count": null,
   "metadata": {
    "id": "ktVu5bF4gW3J"
   },
   "outputs": [],
   "source": [
    "# _만 변수로 사용하는 경우\n",
    "# 통상적으로 대부분 개발자들은 더미 변수를 지칭할 때 사용. 받아는 주되, 사용하지 않음.\n",
    "_ = 100\n",
    "_"
   ]
  },
  {
   "cell_type": "code",
   "execution_count": null,
   "metadata": {
    "id": "2CXguihahH0s"
   },
   "outputs": [],
   "source": [
    "# 상수 : 변하지 않는 읽기 전용 변수.\n",
    "# 파이썬은 상수 미지원.\n",
    "# 그냥 관습적으로 대문자로 표현.\n",
    "# 통상적으로, 환경변수로 가장 많이 사용.\n",
    "# 학습시 환경 통제값, 임계값 등으로 많이 사용.\n",
    "PI = 3.14\n",
    "PI"
   ]
  },
  {
   "cell_type": "code",
   "execution_count": null,
   "metadata": {
    "id": "agfS1dQhgW7h"
   },
   "outputs": [],
   "source": [
    "# 진법 : 2, 8, 10, 16 \n",
    "a = 0xFF\n",
    "a"
   ]
  },
  {
   "cell_type": "code",
   "execution_count": null,
   "metadata": {
    "id": "5GDGxwAjh-c7"
   },
   "outputs": [],
   "source": [
    "# 간단한 사칙연산은 다른점이 있는가?(기존 언어 대비)\n",
    "a = 1\n",
    "b = 2"
   ]
  },
  {
   "cell_type": "code",
   "execution_count": null,
   "metadata": {
    "id": "fzvhEGXciJuL"
   },
   "outputs": [],
   "source": [
    "# 나누기의 결과는 부동소수.\n",
    "a + b, a - b, a * b, a / b"
   ]
  },
  {
   "cell_type": "code",
   "execution_count": null,
   "metadata": {
    "id": "swNaYJp2id-w"
   },
   "outputs": [],
   "source": [
    "7 % 4, 7 // 4, 7 / 4"
   ]
  },
  {
   "cell_type": "code",
   "execution_count": null,
   "metadata": {
    "id": "AlKvwqEjfNwM"
   },
   "outputs": [],
   "source": [
    "# 일반 연산자는 우선순위가 존재.\n",
    "# 만약 서열을 잘 모르면 => 그룹화로 처리 => ()\n",
    "(1 + 2 + 3 +4 ) * 2, 1 + 2 + 3 + 4 *2"
   ]
  }
 ],
 "metadata": {
  "colab": {
   "collapsed_sections": [
    "wHizpR2N6U-q",
    "4QNmb7oW6b1i"
   ],
   "name": "2.기본환경_파이썬단일데이터타입.ipynb",
   "private_outputs": true,
   "provenance": []
  },
  "kernelspec": {
   "display_name": "Python 3",
   "language": "python",
   "name": "python3"
  },
  "language_info": {
   "codemirror_mode": {
    "name": "ipython",
    "version": 3
   },
   "file_extension": ".py",
   "mimetype": "text/x-python",
   "name": "python",
   "nbconvert_exporter": "python",
   "pygments_lexer": "ipython3",
   "version": "3.7.6"
  }
 },
 "nbformat": 4,
 "nbformat_minor": 1
}
