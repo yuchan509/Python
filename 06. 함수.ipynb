{
 "cells": [
  {
   "cell_type": "markdown",
   "metadata": {
    "id": "YAlLAJSQTBbA"
   },
   "source": [
    "### 함수"
   ]
  },
  {
   "cell_type": "markdown",
   "metadata": {
    "id": "vWZJFdGETJYj"
   },
   "source": [
    "#### 개요/정의\n",
    "- 특정한 기능을 수행하는 수행문의 덩어리를 하나로 뭉쳐서 단일의 목적을 수행하는 단위.\n",
    "- 입력(소스,데이터) 대비, 출력(산출물)이라는 형태가 존재.\n",
    "- 입력 => 파라미터, 출력 => 리턴값\n",
    "- 함수 정의, 호출해서 사용.\n",
    "- 함수는 호출을 해야 작동함."
   ]
  },
  {
   "cell_type": "markdown",
   "metadata": {
    "id": "BDt_dloYTEEv"
   },
   "source": [
    "#### 종류\n",
    "- 커스텀 함수\n",
    "  - 개발자가 필요에 의해서 만든 함수.\n",
    "  - 문법.\n",
    "  \n",
    "- 내장함수\n",
    "  - 별도의 액션 없이 바로 사용가능한 함수.\n",
    "  - int(), str(), print(), type(),..\n",
    "  - 주로 사용하는 내용은 기억, 나머지는 필요시 찾아서 처리.\n",
    "  \n",
    "- 외장함수\n",
    "  - 서드파트 모듈을 가져오서, 그안에 있는 함수를 사용한다면 이는 외장함수.\n",
    "  - 패키지(모듈)명.함수()\n",
    "  - 내가 만든 함수를 다른 사람이 사용한다면 그것이 외장함수가 됨.\n",
    "\n",
    "- 람다함수\n",
    "  - 휘발성 함수.\n",
    "  - 가장 빠른 처리 속도.\n",
    "  - 수행문이 1개여야 한다는 제한.\n",
    "  - 함수 인자에 함수가 연결(콜백처리)되는 스타일에서 주로 사용.\n",
    "  - Python : filter(), map()\n",
    "  - pandas : apply()\n",
    "  - lambda x : x+1\n",
    "\n",
    "- 클로저\n",
    "  - 함수 안에 함수가 정의.\n",
    "  - 함수 내부에서만 사용하게 제한하거나 외부에서 사용시.\n",
    "    - xxxx()() => keras에서 주로 보임.\n",
    "\n",
    "- 고급표현"
   ]
  },
  {
   "cell_type": "markdown",
   "metadata": {
    "id": "CuF6CzOETGir"
   },
   "source": [
    "#### 특징\n",
    "- 재활용성을 높이는 코드를 하나로 묶어서 함수로 표현.(1번 이상 사용되는 경우)\n",
    "- 단지, 코드가 복잡해서 하나로 묶어서 처리.\n",
    "- 코드를 기능별로 나눠서, 효율적으로 유지보수 관리하기 위해서 구성.(재활용성 및 다른 프로젝트에서도 활용.)\n",
    "- 생산성 향상 => 수익 증대.\n",
    "- 함수, 메소드 다 같은 의미."
   ]
  },
  {
   "cell_type": "markdown",
   "metadata": {
    "id": "2mHxtfJfWKSj"
   },
   "source": [
    "#### 커스텀 함수\n",
    "- [ ..  ] 생략 가능."
   ]
  },
  {
   "cell_type": "code",
   "execution_count": null,
   "metadata": {
    "id": "HSgZYBgcWzU0"
   },
   "outputs": [],
   "source": [
    "'''\n",
    "[@ ~ <- 데코레이터(다음주)] \n",
    "def 함수명 ([인자1, 인자2,..]):\n",
    "  # 코드블럭 파트\n",
    "  statements,...\n",
    "  [ return [출력값,...] ]\n",
    "'''"
   ]
  },
  {
   "cell_type": "code",
   "execution_count": 1,
   "metadata": {
    "id": "OenqVQXcXpAT"
   },
   "outputs": [],
   "source": [
    "# 1. 정수 더하기 함수.\n",
    "#  - 함수명 : sum\n",
    "#  - 입력 : x, y\n",
    "#  - 출력 : 입력된 2개의 값을 더한값.\n",
    "# Python의 변수는 타입 추론형.\n",
    "# => 변수명 앞에 어떤 기호도 없던가, 범용적 기호만 사용.(var, let,..)\n",
    "\n",
    "def sum( x, y ) :  \n",
    "    result = x + y\n",
    "    return result"
   ]
  },
  {
   "cell_type": "code",
   "execution_count": 2,
   "metadata": {
    "id": "ypBM4QQbZD-c"
   },
   "outputs": [
    {
     "data": {
      "text/plain": [
       "3"
      ]
     },
     "execution_count": 2,
     "metadata": {},
     "output_type": "execute_result"
    }
   ],
   "source": [
    "# 함수는 호출해야 의미를 가짐. => call by value\n",
    "# 호출 : 함수명(파라미터)\n",
    "a = sum(1, 2)\n",
    "a"
   ]
  },
  {
   "cell_type": "code",
   "execution_count": 3,
   "metadata": {
    "id": "KEV8sojdZZ05"
   },
   "outputs": [
    {
     "name": "stdout",
     "output_type": "stream",
     "text": [
      "21\n",
      "21\n",
      "None\n"
     ]
    },
    {
     "data": {
      "text/plain": [
       "(None, None)"
      ]
     },
     "execution_count": 3,
     "metadata": {},
     "output_type": "execute_result"
    }
   ],
   "source": [
    "# 출력이 없는 함수 => return이 없음.\n",
    "def sum2( x, y ) :  \n",
    "    print( x + y )\n",
    "\n",
    "# 함수가 리턴값을 가지지 않으면 함수의 반환값은 None.\n",
    "sum2(10,11), print( sum2(10,11) )"
   ]
  },
  {
   "cell_type": "code",
   "execution_count": 4,
   "metadata": {
    "id": "n8ezWJonaEDJ"
   },
   "outputs": [
    {
     "name": "stdout",
     "output_type": "stream",
     "text": [
      "(1, 2) <class 'tuple'>\n",
      "(1, 2, 3) <class 'tuple'>\n",
      "(1, 2, 3, 4) <class 'tuple'>\n"
     ]
    }
   ],
   "source": [
    "# 가변인자.\n",
    "# 인자들을 튜플로 묶어서 함수 내부로 가져오기\n",
    "def sum3( *x ) :  \n",
    "    print( x, type(x) )\n",
    "\n",
    "# 매개변수의 수는 정해져 있지 않음(가변적)\n",
    "sum3(1,2)\n",
    "sum3(1,2,3)\n",
    "sum3(1,2,3,4)"
   ]
  },
  {
   "cell_type": "code",
   "execution_count": 5,
   "metadata": {
    "id": "Tq2s_2H4ayoN"
   },
   "outputs": [
    {
     "name": "stdout",
     "output_type": "stream",
     "text": [
      "1 <class 'int'> (2,) <class 'tuple'>\n",
      "1 <class 'int'> (2, 3) <class 'tuple'>\n",
      "1 <class 'int'> (2, 3, 4) <class 'tuple'>\n"
     ]
    }
   ],
   "source": [
    "# 일반 인자, 가변인자 조합.\n",
    "def sum4( a, *x ) :  \n",
    "    print( a, type(a), x, type(x) )\n",
    "\n",
    "# 매개변수의 수는 정해져 있지 않음(가변적)\n",
    "sum4(1,2)\n",
    "sum4(1,2,3)\n",
    "sum4(1,2,3,4)"
   ]
  },
  {
   "cell_type": "code",
   "execution_count": 6,
   "metadata": {
    "id": "PBLel-55bE8i"
   },
   "outputs": [
    {
     "name": "stdout",
     "output_type": "stream",
     "text": [
      "1 <class 'int'> (2,) <class 'tuple'>\n",
      "1 <class 'int'> (2, 3) <class 'tuple'>\n",
      "1 <class 'int'> (2, 3, 4) <class 'tuple'>\n"
     ]
    }
   ],
   "source": [
    "def sum5( a, *x ) :  \n",
    "      print( a, type(a), x, type(x) )\n",
    "\n",
    "# 매개변수의 수는 정해져 있지 않음(가변적)\n",
    "sum5(1,2)\n",
    "sum5(1,2,3)\n",
    "sum5(1,2,3,4)"
   ]
  },
  {
   "cell_type": "code",
   "execution_count": 7,
   "metadata": {
    "id": "I4g2J3BVbVnK"
   },
   "outputs": [
    {
     "name": "stdout",
     "output_type": "stream",
     "text": [
      "2 <class 'int'> (1,) <class 'tuple'>\n",
      "3 <class 'int'> (1, 2) <class 'tuple'>\n",
      "4 <class 'int'> (1, 2, 3) <class 'tuple'>\n"
     ]
    }
   ],
   "source": [
    "def sum6( *x, a  ) :  \n",
    "    print( a, type(a), x, type(x) )\n",
    "\n",
    "\n",
    "# 매개변수의 수는 정해져 있지 않음(가변적)\n",
    "# 매개변수의 기본값 부여.\n",
    "# a=3 => a라는 파라미터에 값을 직접 지정한 것.\n",
    "sum6(1,a=2)\n",
    "sum6(1,2,a=3)\n",
    "sum6(1,2,3,a=4)"
   ]
  },
  {
   "cell_type": "code",
   "execution_count": 8,
   "metadata": {
    "id": "ZaGZ2N18qVAs"
   },
   "outputs": [
    {
     "data": {
      "text/plain": [
       "(20, 42)"
      ]
     },
     "execution_count": 8,
     "metadata": {},
     "output_type": "execute_result"
    }
   ],
   "source": [
    "# 누적합을 출력하는 함수.\n",
    "def sum7( *x ) : \n",
    "    tmp = 0\n",
    "    for v in x :\n",
    "        # tmp = tmp + v\n",
    "        tmp += v\n",
    "        # print( tmp )\n",
    "    return tmp\n",
    "\n",
    "# 20, 42 이렇게 결과가 나올 것.\n",
    "sum7(2,4,6,8), sum7(2,4,6,8,10,12)"
   ]
  },
  {
   "cell_type": "code",
   "execution_count": 9,
   "metadata": {
    "id": "i0lq2q3vs3Bs"
   },
   "outputs": [
    {
     "data": {
      "text/plain": [
       "(384, 46080)"
      ]
     },
     "execution_count": 9,
     "metadata": {},
     "output_type": "execute_result"
    }
   ],
   "source": [
    "# sum8을 만들어서 누적곱을 구현.\n",
    "def sum8( *x ) : \n",
    "    tmp = 1\n",
    "    for v in x :\n",
    "        tmp *= v\n",
    "    return tmp\n",
    "\n",
    "sum8(2,4,6,8), sum8(2,4,6,8,10,12)"
   ]
  },
  {
   "cell_type": "code",
   "execution_count": 10,
   "metadata": {
    "id": "M0dUFKCktjhI"
   },
   "outputs": [
    {
     "name": "stdout",
     "output_type": "stream",
     "text": [
      "food 정식\n",
      "drink 물\n"
     ]
    }
   ],
   "source": [
    "# **kargs : keyword argements\n",
    "# 머신러닝/딥러닝에서 사용하는 많은 함수의 마지막 인자로 많이 사용됨.\n",
    "# 장점 : 함수 외적으로 어떤 인자를 받을 것인지 은닉할수 있음.\n",
    "# 인자를 명확하게 지정하여(키), 여러개를 자유롭게 확장할 수 있음.\n",
    "\n",
    "def test( **kargs ) :\n",
    "    #print( kargs, type(kargs), kargs['food'],kargs['drink'] )\n",
    "    #for key in kargs :\n",
    "    #for key in kargs.keys() :\n",
    "    #for value in kargs.values() :\n",
    "    for key, value in kargs.items() : # (food, 정식)\n",
    "        print( key, value)\n",
    "        pass\n",
    "\n",
    "# 파라미터의 키값을 지정해서 데이터를 넘길 때 사용.\n",
    "test( food='정식', drink='물' )"
   ]
  },
  {
   "cell_type": "code",
   "execution_count": 11,
   "metadata": {
    "id": "qto36KwQwT2c"
   },
   "outputs": [
    {
     "data": {
      "text/plain": [
       "(3, -1, 2, 0.5)"
      ]
     },
     "execution_count": 11,
     "metadata": {},
     "output_type": "execute_result"
    }
   ],
   "source": [
    "# 리턴값이 여러개일 경우 리턴된 값의 타입은 tuple임.\n",
    "def cal( x, y) :\n",
    "    return x+y, x-y, x*y, x/y\n",
    "\n",
    "cal( 1, 2 )"
   ]
  },
  {
   "cell_type": "code",
   "execution_count": 12,
   "metadata": {
    "id": "G6mMm9Epw1Bp"
   },
   "outputs": [
    {
     "data": {
      "text/plain": [
       "-1"
      ]
     },
     "execution_count": 12,
     "metadata": {},
     "output_type": "execute_result"
    }
   ],
   "source": [
    "# 맴버 수대로 직접 변수에 바로 대입하여 결과를 받음.\n",
    "# 장점 : 각변수의 의미를 명확하게 부여가 가능.\n",
    "add, sub, mul, _ = cal( 1, 2 )\n",
    "sub"
   ]
  },
  {
   "cell_type": "code",
   "execution_count": 13,
   "metadata": {
    "id": "ibPO2agWxSDV"
   },
   "outputs": [],
   "source": [
    "# 리턴은 4개의 값인데, 받는 것은 3개의 변수라면 결과를 받지 못함.\n",
    "# 따라서 받기 싫은 값 같은 경우 _를 이용.\n",
    "add, sub, mul,_ = cal( 1, 2 )"
   ]
  },
  {
   "cell_type": "code",
   "execution_count": 14,
   "metadata": {
    "id": "yPZo1W-hxi1g"
   },
   "outputs": [
    {
     "name": "stdout",
     "output_type": "stream",
     "text": [
      "당신의 나이는 10, 키는 100 입니다.\n",
      "당신의 나이는 15, 키는 100 입니다.\n",
      "당신의 나이는 10, 키는 110 입니다.\n",
      "당신의 나이는 11, 키는 110 입니다.\n"
     ]
    }
   ],
   "source": [
    "# 함수의 파라미터 초기값 부여.\n",
    "def cal( age=10, height=100 ) :\n",
    "    print('당신의 나이는 %s, 키는 %s 입니다.' % (age, height) )\n",
    "cal()\n",
    "cal(15)\n",
    "cal(height=110)\n",
    "cal(height=110, age=11)"
   ]
  },
  {
   "cell_type": "code",
   "execution_count": 15,
   "metadata": {
    "id": "O2Nq-VY_yZ7J"
   },
   "outputs": [
    {
     "name": "stdout",
     "output_type": "stream",
     "text": [
      "jo의 나이는 10, 키는 100 입니다.\n",
      "15의 나이는 10, 키는 100 입니다.\n",
      "hi의 나이는 10, 키는 110 입니다.\n",
      "hello의 나이는 11, 키는 110 입니다.\n"
     ]
    }
   ],
   "source": [
    "def cal2( name, age=10, height=100 ) :\n",
    "    print('%s의 나이는 %s, 키는 %s 입니다.' % (name, age, height) )\n",
    "\n",
    "# 순서대로 인자로 배치됨.\n",
    "cal2('jo')\n",
    "cal2(15)\n",
    "\n",
    "# 기본값이 없는 파라미터부터 채우고, 나머지 기본값있는 파라미터 채움.\n",
    "cal2('hi', height=110)\n",
    "\n",
    "# 기본값이 없어도 파라미터명을 지정하면 순서를 없앨 수 있음.\n",
    "cal2(height=110, age=11, name='hello')"
   ]
  },
  {
   "cell_type": "code",
   "execution_count": 16,
   "metadata": {
    "id": "MKQYSvIezU-y"
   },
   "outputs": [],
   "source": [
    "def fit( X_trian, y_train ) : pass\n",
    "\n",
    "# 기본값이 없는 파라미터는 기본값 있는 파라미터보다 무조건 앞에 있어야함.\n",
    "# 그렇지 않으면 에러 발생.\n",
    "def cal3(name, age=10, height=100) :\n",
    "    print('%s의 나이는 %s, 키는 %s 입니다.' % (name, age, height) )"
   ]
  },
  {
   "cell_type": "markdown",
   "metadata": {
    "id": "WTI9RWn-WMYo"
   },
   "source": [
    "#### 내장함수\n",
    "- 특정기능을 가진 함수를 별도의 액션 없이 바로 사용이 가능한 함수들\n",
    "- 사용빈도가 높은 함수, 낮은 함수도 존재한다 (시간이 충분하면 한번 정도 사용해 봐도 OK)\n",
    "- int(), str(), type(), list(), tuple(),..."
   ]
  },
  {
   "cell_type": "code",
   "execution_count": 17,
   "metadata": {
    "id": "7nNXI6iN3QyD"
   },
   "outputs": [
    {
     "name": "stdout",
     "output_type": "stream",
     "text": [
      "\n",
      "  Tesla, Inc. (formerly Tesla Motors, Inc.) is an American electric vehicle and clean energy company based in Palo Alto, California. Tesla's current products include electric cars (the Model S, Model 3, Model X, and Model Y), battery energy storage from home to grid scale (the Powerwall, Powerpack, and Megapack), solar panels and solar roof tiles, and related products and services.\n",
      "\n",
      "  Founded in |July 2003 by engineers Martin Eberhard and Marc Tarpenning as Tesla Motors, the company’s name is a tribute to inventor and electrical engineer Nikola Tesla. Eberhard said he wanted to build \"a car manufacturer that is also a technology company\", with its core technologies as \"the battery, the computer software and the proprietary motor\".\n",
      "\n",
      "  The next three employees at Tesla were Ian Wright, Elon Musk, and J. B. Straubel.[9] Musk, who has served as CEO since 2008, said in 2006 that \"the overarching purpose of Tesla Motors...is to help expedite the move from a mine-and-burn hydrocarbon economy toward a solar electric economy\" and it would build a wide range of electric vehicles, including \"affordably priced family cars\", and co-market SolarCity solar panels to do so.[10][11][12] Tesla acquired SolarCity in 2016.\n",
      "\n",
      "  After 11 years in the market, Tesla ranked as the world's best-selling plug-in and battery electric passenger car manufacturer in 2019, with a market share of 17% of the plug-in segment and 23% of the battery electric segment.[13] Tesla global vehicle sales increased 50% from 245,240 units in 2018[14] to 367,849 units in 2019.[13] In 2020, the company surpassed the 1 million mark of electric cars produced.[15] The Model 3 ranks as the world's all-time best-selling plug-in electric car, with more than 500,000 delivered.[16] Tesla cars accounted for 81% of the battery electric vehicles sold in the United States in the first half of 2020.[17]\n",
      "\n"
     ]
    }
   ],
   "source": [
    "en_txt = '''\n",
    "  Tesla, Inc. (formerly Tesla Motors, Inc.) is an American electric vehicle and clean energy company based in Palo Alto, California. Tesla's current products include electric cars (the Model S, Model 3, Model X, and Model Y), battery energy storage from home to grid scale (the Powerwall, Powerpack, and Megapack), solar panels and solar roof tiles, and related products and services.\n",
    "\n",
    "  Founded in |July 2003 by engineers Martin Eberhard and Marc Tarpenning as Tesla Motors, the company’s name is a tribute to inventor and electrical engineer Nikola Tesla. Eberhard said he wanted to build \"a car manufacturer that is also a technology company\", with its core technologies as \"the battery, the computer software and the proprietary motor\".\n",
    "\n",
    "  The next three employees at Tesla were Ian Wright, Elon Musk, and J. B. Straubel.[9] Musk, who has served as CEO since 2008, said in 2006 that \"the overarching purpose of Tesla Motors...is to help expedite the move from a mine-and-burn hydrocarbon economy toward a solar electric economy\" and it would build a wide range of electric vehicles, including \"affordably priced family cars\", and co-market SolarCity solar panels to do so.[10][11][12] Tesla acquired SolarCity in 2016.\n",
    "\n",
    "  After 11 years in the market, Tesla ranked as the world's best-selling plug-in and battery electric passenger car manufacturer in 2019, with a market share of 17% of the plug-in segment and 23% of the battery electric segment.[13] Tesla global vehicle sales increased 50% from 245,240 units in 2018[14] to 367,849 units in 2019.[13] In 2020, the company surpassed the 1 million mark of electric cars produced.[15] The Model 3 ranks as the world's all-time best-selling plug-in electric car, with more than 500,000 delivered.[16] Tesla cars accounted for 81% of the battery electric vehicles sold in the United States in the first half of 2020.[17]\n",
    "'''\n",
    "print( en_txt )"
   ]
  },
  {
   "cell_type": "code",
   "execution_count": 18,
   "metadata": {
    "id": "WuKJfdTJ3_J2"
   },
   "outputs": [
    {
     "data": {
      "text/plain": [
       "'TeslaIncformerlyTeslaMotorsIncisanAmericanelectricvehicleandcleanenergycompanybasedinPaloAltoCaliforniaTeslascurrentproductsincludeelectriccarstheModelSModelModelXandModelYbatteryenergystoragefromhometogridscalethePowerwallPowerpackandMegapacksolarpanelsandsolarrooftilesandrelatedproductsandservicesFoundedinJulybyengineersMartinEberhardandMarcTarpenningasTeslaMotorsthecompanysnameisatributetoinventorandelectricalengineerNikolaTeslaEberhardsaidhewantedtobuildacarmanufacturerthatisalsoatechnologycompanywithitscoretechnologiesasthebatterythecomputersoftwareandtheproprietarymotorThenextthreeemployeesatTeslawereIanWrightElonMuskandJBStraubelMuskwhohasservedasCEOsincesaidinthattheoverarchingpurposeofTeslaMotorsistohelpexpeditethemovefromamineandburnhydrocarboneconomytowardasolarelectriceconomyanditwouldbuildawiderangeofelectricvehiclesincludingaffordablypricedfamilycarsandcomarketSolarCitysolarpanelstodosoTeslaacquiredSolarCityinAfteryearsinthemarketTeslarankedastheworldsbestsellingpluginandbatteryelectricpassengercarmanufacturerinwithamarketshareofofthepluginsegmentandofthebatteryelectricsegmentTeslaglobalvehiclesalesincreasedfromunitsintounitsinInthecompanysurpassedthemillionmarkofelectriccarsproducedTheModelranksastheworldsalltimebestsellingpluginelectriccarwithmorethandeliveredTeslacarsaccountedforofthebatteryelectricvehiclessoldintheUnitedStatesinthefirsthalfof'"
      ]
     },
     "execution_count": 18,
     "metadata": {},
     "output_type": "execute_result"
    }
   ],
   "source": [
    "# 주어진 원문의 알파벳별 빈도를 계산.\n",
    "# 알파벳권의 빈도는 국가별로 다름.\n",
    "# 논문 => 머신러닝 학습 => 모델을 서비스에 적용.\n",
    "# 언어감지 서비스.\n",
    "# 결과물 .\n",
    "# [ a, b, c, ....]\n",
    "# [ 10, 30, 54, .... ] => 맴버는 총 26개( a-z )\n",
    "\n",
    "# 주어진 데이터(raw 데이터)부터 정제과정을 거쳐서 알파벳만 존재하는 문자열을 획득할수 있다 => 정규식으로 처리.\n",
    "import re\n",
    "\n",
    "# 정규식을 생성.\n",
    "# [] : 문자 1개, 문자 클래스.\n",
    "# * : 0 ~ 무한대로 반복해서 나올수 있음.\n",
    "# [^]: 해당 문자만 제외.\n",
    "# a-zA-Z:모든 알파벳 모든것.\n",
    "# 알파벳을 제외한 모든 문자.\n",
    "p = re.compile( '[^a-zA-Z]*' )\n",
    "\n",
    "# 정규식을 이용하여 알파멧만 남김.\n",
    "# 원문에서 알파벳을 제외한 모든 문자를 찾아서 ''으로 대체.\n",
    "tmp = p.sub( '', en_txt )\n",
    "tmp"
   ]
  },
  {
   "cell_type": "code",
   "execution_count": 19,
   "metadata": {
    "id": "dKkkRGsX6b3P"
   },
   "outputs": [
    {
     "data": {
      "text/plain": [
       "'teslaincformerlyteslamotorsincisanamericanelectricvehicleandcleanenergycompanybasedinpaloaltocaliforniateslascurrentproductsincludeelectriccarsthemodelsmodelmodelxandmodelybatteryenergystoragefromhometogridscalethepowerwallpowerpackandmegapacksolarpanelsandsolarrooftilesandrelatedproductsandservicesfoundedinjulybyengineersmartineberhardandmarctarpenningasteslamotorsthecompanysnameisatributetoinventorandelectricalengineernikolateslaeberhardsaidhewantedtobuildacarmanufacturerthatisalsoatechnologycompanywithitscoretechnologiesasthebatterythecomputersoftwareandtheproprietarymotorthenextthreeemployeesatteslawereianwrightelonmuskandjbstraubelmuskwhohasservedasceosincesaidinthattheoverarchingpurposeofteslamotorsistohelpexpeditethemovefromamineandburnhydrocarboneconomytowardasolarelectriceconomyanditwouldbuildawiderangeofelectricvehiclesincludingaffordablypricedfamilycarsandcomarketsolarcitysolarpanelstodosoteslaacquiredsolarcityinafteryearsinthemarketteslarankedastheworldsbestsellingpluginandbatteryelectricpassengercarmanufacturerinwithamarketshareofofthepluginsegmentandofthebatteryelectricsegmentteslaglobalvehiclesalesincreasedfromunitsintounitsininthecompanysurpassedthemillionmarkofelectriccarsproducedthemodelranksastheworldsalltimebestsellingpluginelectriccarwithmorethandeliveredteslacarsaccountedforofthebatteryelectricvehiclessoldintheunitedstatesinthefirsthalfof'"
      ]
     },
     "execution_count": 19,
     "metadata": {},
     "output_type": "execute_result"
    }
   ],
   "source": [
    "# 일단 통일되게 소문자로 처리.\n",
    "tmp = tmp.lower()\n",
    "tmp"
   ]
  },
  {
   "cell_type": "code",
   "execution_count": 20,
   "metadata": {
    "id": "L5U3kbYy7OOn"
   },
   "outputs": [
    {
     "data": {
      "text/plain": [
       "(97, 99, 2)"
      ]
     },
     "execution_count": 20,
     "metadata": {},
     "output_type": "execute_result"
    }
   ],
   "source": [
    "# 알파벳 순서.\n",
    "# a, b, c.... => 아스키코드에 대응.\n",
    "# a => 아스키 97, z => 122\n",
    "# 알파벳 간에는 거리값이 존재함 => 이것을 이용해 손쉽게 카운트처리.\n",
    "# 'a' => 97이 나오게 하는 함수는?\n",
    "# ord('c')-ord('a')은 c의 방번호가 같음.\n",
    "ord('a'), ord('c'), ord('c') - ord('a')"
   ]
  },
  {
   "cell_type": "code",
   "execution_count": 21,
   "metadata": {
    "id": "4l3Qkokm8heT"
   },
   "outputs": [
    {
     "data": {
      "text/plain": [
       "[0, 0, 0, 0, 0, 0, 0, 0, 0, 0, 0, 0, 0, 0, 0, 0, 0, 0, 0, 0, 0, 0, 0, 0, 0, 0]"
      ]
     },
     "execution_count": 21,
     "metadata": {},
     "output_type": "execute_result"
    }
   ],
   "source": [
    "# 카운트 빈도를 담을 리스트 준비 => 맴버 26개(a-z)\n",
    "# 모든 구성원의 초기값은 0\n",
    "cnts = [ 0 for n in range(26) ]\n",
    "cnts"
   ]
  },
  {
   "cell_type": "code",
   "execution_count": 22,
   "metadata": {
    "id": "BkvZEhWD9N8H"
   },
   "outputs": [
    {
     "data": {
      "text/plain": [
       "[0, 0, 0, 0, 0, 0, 0, 0, 0, 0, 0, 0, 0, 0, 0, 0, 0, 0, 0, 0, 0, 0, 0, 0, 0, 0]"
      ]
     },
     "execution_count": 22,
     "metadata": {},
     "output_type": "execute_result"
    }
   ],
   "source": [
    "cnts = [0]*26\n",
    "cnts"
   ]
  },
  {
   "cell_type": "code",
   "execution_count": 23,
   "metadata": {
    "id": "26WtQv6C9L7_"
   },
   "outputs": [
    {
     "name": "stdout",
     "output_type": "stream",
     "text": [
      "[129, 20, 71, 58, 176, 25, 23, 45, 84, 2, 11, 84, 43, 90, 92, 29, 1, 108, 89, 116, 31, 10, 16, 3, 26, 0]\n"
     ]
    }
   ],
   "source": [
    "# 문자열에서 문자 한개식 추출 => for문\n",
    "for ch in tmp :\n",
    "    cnts[ ord(ch)-ord('a') ] += 1 \n",
    "print(cnts)"
   ]
  },
  {
   "cell_type": "code",
   "execution_count": 24,
   "metadata": {
    "id": "2s2BzBy8-BOY"
   },
   "outputs": [],
   "source": [
    "# 파일 시스템.\n",
    "# 'w' : 쓰기모드 + 텍스트(메모장에 열림.)\n",
    "# 'wb' : 쓰기모드 + 바이너리\n",
    "# 1. 파일 생성및 오픈 =>  I/O => 오픈과 동시에 닫기에 대해 기술.\n",
    "f = open( 'test.txt', 'w' )\n",
    "\n",
    "# 2. 파일닫기.(바로 작성한다)\n",
    "f.close()"
   ]
  },
  {
   "cell_type": "code",
   "execution_count": 25,
   "metadata": {
    "id": "ndibZTJ7-FBq"
   },
   "outputs": [],
   "source": [
    "# 쓰기.\n",
    "f = open( 'test.txt', 'w' )\n",
    "\n",
    "# 우리가 주로 사용하는 문자들은 잘 기록됨.\n",
    "f.write('가나다abcABC123!@#')\n",
    "f.close()"
   ]
  },
  {
   "cell_type": "code",
   "execution_count": 26,
   "metadata": {
    "id": "Z6rqu2Lz-FEX"
   },
   "outputs": [
    {
     "name": "stdout",
     "output_type": "stream",
     "text": [
      "가나다abcABC123!@#\n"
     ]
    }
   ],
   "source": [
    "# 읽기.\n",
    "# 'r' : 읽기 모드.\n",
    "f = open( 'test.txt', 'r' )\n",
    "\n",
    "# 우리가 주로 사용하는 문자들은 잘 기록.\n",
    "print( f.read() )\n",
    "f.close()"
   ]
  },
  {
   "cell_type": "code",
   "execution_count": 27,
   "metadata": {
    "id": "WJvd5sqM-FHh"
   },
   "outputs": [
    {
     "name": "stdout",
     "output_type": "stream",
     "text": [
      "가나다abcABC123!@#\n"
     ]
    }
   ],
   "source": [
    "# 파이썬에서 I/O를 닫는게 중요한데, 종종 실수로 누락하는 경우가 많음.\n",
    "# with문 이라는 문법을 지원하여 이를 해결.\n",
    "# 데이터베이스, 파일시스템, 네트워크(통신) 등등...\n",
    "# as는 별칭으로  open() => f를 의미함.\n",
    "# with문을 빠져나가면 자동을 close() 처리.\n",
    "with open( 'test.txt', 'r' ) as f :\n",
    "    print( f.read() )"
   ]
  },
  {
   "cell_type": "markdown",
   "metadata": {
    "id": "0p8zolt9WQGf"
   },
   "source": [
    "#### 외장함수"
   ]
  },
  {
   "cell_type": "code",
   "execution_count": 28,
   "metadata": {
    "id": "nlh-BBxmHN7J"
   },
   "outputs": [
    {
     "data": {
      "text/plain": [
       "<module 'pickle' from 'C:\\\\ProgramData\\\\Anaconda3\\\\lib\\\\pickle.py'>"
      ]
     },
     "execution_count": 28,
     "metadata": {},
     "output_type": "execute_result"
    }
   ],
   "source": [
    "# from ~\n",
    "# as : 별칭 부여.\n",
    "# 사용 => p.함수()\n",
    "import pickle as p\n",
    "p"
   ]
  },
  {
   "cell_type": "code",
   "execution_count": 29,
   "metadata": {
    "id": "geZlyjA9HpJs"
   },
   "outputs": [],
   "source": [
    "# 데이터.\n",
    "data = [1, 2, 3, 4, 5]\n",
    "\n",
    "# pickle은 자료구조를 유지한째로 저장(덤프), 로드를 수행할수 있는 모듈.\n",
    "# 이 모듈읗 확장해서, 머신러닝, 딥러닝시 학습된 모델을 저장하고 로드할 때 사용.\n",
    "# 내부적으로 사용되는 모듈 : 머신러닝, 딥러닝 => 학습된 모델은 신경망,구조 + 가중치값을 가짐 => 저장.\n",
    "with open('model.h5', 'wb') as f :\n",
    "    p.dump( data, f, p.HIGHEST_PROTOCOL )"
   ]
  },
  {
   "cell_type": "code",
   "execution_count": 30,
   "metadata": {
    "id": "SyZoBhLrIwYz"
   },
   "outputs": [
    {
     "name": "stdout",
     "output_type": "stream",
     "text": [
      "[1, 2, 3, 4, 5]\n"
     ]
    }
   ],
   "source": [
    "with open('model.h5', 'rb') as f :\n",
    "    print( p.load( f ) )"
   ]
  },
  {
   "cell_type": "markdown",
   "metadata": {
    "id": "jck9oxONWRMw"
   },
   "source": [
    "#### 람다함수\n",
    "- 휘발성 함수, 1회용 사용.\n",
    "- 빠른 처리 속도를 요할때 사용.\n",
    "- 함수의 인자로 함수를 넣을때 사용.\n",
    "- 수행문 하나일대 사용.\n",
    "- apply에서 많이 사용."
   ]
  },
  {
   "cell_type": "code",
   "execution_count": 31,
   "metadata": {
    "id": "g7k6o11QEVyR"
   },
   "outputs": [
    {
     "data": {
      "text/plain": [
       "[2, 4, 6, 8, 10]"
      ]
     },
     "execution_count": 31,
     "metadata": {},
     "output_type": "execute_result"
    }
   ],
   "source": [
    "# 데이터.\n",
    "data = [1, 2, 3, 4, 5]\n",
    "\n",
    "# a의 각 구성원 값을 2배로 키워라 => [2, 4, 6, 8, 10]\n",
    "# 맴버들을 하나씩 꺼내서 *2를 해서 다시 원위치 시키기.\n",
    "# 파이썬: map(), 판다스 : apply()\n",
    "def mul2( x ) :\n",
    "    return x*2\n",
    "    # pass\n",
    "\n",
    "list( map( mul2, data ) )"
   ]
  },
  {
   "cell_type": "code",
   "execution_count": 32,
   "metadata": {
    "id": "ZwgSeq_cEV0q",
    "scrolled": true
   },
   "outputs": [
    {
     "data": {
      "text/plain": [
       "[2, 4, 6, 8, 10]"
      ]
     },
     "execution_count": 32,
     "metadata": {},
     "output_type": "execute_result"
    }
   ],
   "source": [
    "# 호출할 때만 생성되고, 이후에는 람다함수는 사라짐.(휘발성)\n",
    "list( map( lambda x:x*2, data ) )"
   ]
  },
  {
   "cell_type": "code",
   "execution_count": 33,
   "metadata": {
    "id": "u9qgrPetGwtF",
    "scrolled": true
   },
   "outputs": [
    {
     "data": {
      "text/plain": [
       "[3, 4, 5]"
      ]
     },
     "execution_count": 33,
     "metadata": {},
     "output_type": "execute_result"
    }
   ],
   "source": [
    "list( filter( lambda x:x>2, data ) )"
   ]
  },
  {
   "cell_type": "markdown",
   "metadata": {
    "id": "zDV346bxWTF_"
   },
   "source": [
    "#### 클로저"
   ]
  },
  {
   "cell_type": "code",
   "execution_count": 34,
   "metadata": {
    "id": "lkcs9dPfJV-K"
   },
   "outputs": [],
   "source": [
    "def a() :\n",
    "    print( 1 )\n",
    "    # 함수 내부에서 특정 모듈을 담당하여 업무를 수행할 때 사용.\n",
    "    def b():\n",
    "        print( 2 )\n",
    "    b()\n",
    "    print( 3 )"
   ]
  },
  {
   "cell_type": "code",
   "execution_count": 35,
   "metadata": {
    "id": "FUaad04eWJC4"
   },
   "outputs": [
    {
     "name": "stdout",
     "output_type": "stream",
     "text": [
      "1\n",
      "2\n",
      "3\n"
     ]
    }
   ],
   "source": [
    "a()"
   ]
  },
  {
   "cell_type": "code",
   "execution_count": 36,
   "metadata": {
    "id": "oc4prIJeWJFf"
   },
   "outputs": [],
   "source": [
    "def a(x, y) :\n",
    "    # x = 10\n",
    "    # y = 5\n",
    "    def b( z ):\n",
    "        return x + y + z\n",
    "    return b\n",
    "b2 = a(10, 5)"
   ]
  },
  {
   "cell_type": "code",
   "execution_count": 37,
   "metadata": {
    "id": "-pX31gvkWJHv"
   },
   "outputs": [
    {
     "data": {
      "text/plain": [
       "(16, 16)"
      ]
     },
     "execution_count": 37,
     "metadata": {},
     "output_type": "execute_result"
    }
   ],
   "source": [
    "b2(1), a(10, 5)(1)"
   ]
  },
  {
   "cell_type": "code",
   "execution_count": 38,
   "metadata": {
    "id": "HdMSjS28WJKQ"
   },
   "outputs": [
    {
     "data": {
      "text/plain": [
       "16"
      ]
     },
     "execution_count": 38,
     "metadata": {},
     "output_type": "execute_result"
    }
   ],
   "source": [
    "def a(x,y) :  \n",
    "    return lambda z : x + y + z\n",
    "\n",
    "# Keras에서 모델 만들때 종종 사용.\n",
    "a(10, 5)(1)"
   ]
  },
  {
   "cell_type": "code",
   "execution_count": 39,
   "metadata": {
    "id": "-jUlufY9WJMy"
   },
   "outputs": [
    {
     "data": {
      "text/plain": [
       "100"
      ]
     },
     "execution_count": 39,
     "metadata": {},
     "output_type": "execute_result"
    }
   ],
   "source": [
    "def test() :\n",
    "    # 지역변수, 함수 내부에서만 의미를 가짐.\n",
    "    # 해당 변수의 scope(범위)는 함수 내부에만 영향을 미침.\n",
    "    a5 = 100\n",
    "    return a5\n",
    "\n",
    "# a5는 함수 밖으로 나오면 아무런 의미를 가지지 않으므로 출력이 안됨.\n",
    "test()"
   ]
  },
  {
   "cell_type": "code",
   "execution_count": 40,
   "metadata": {
    "id": "FUmT0GNTEWcU"
   },
   "outputs": [
    {
     "data": {
      "text/plain": [
       "(100, 10)"
      ]
     },
     "execution_count": 40,
     "metadata": {},
     "output_type": "execute_result"
    }
   ],
   "source": [
    "# 전역변수.\n",
    "a5 = 10\n",
    "\n",
    "def test() :  \n",
    "    # 지역변수\n",
    "    a5 = 100\n",
    "    return a5\n",
    "\n",
    "# 위와는 달리 함수 밖에서도 a5값이 지역변수로서 10으로 지정되었으므로 출력.\n",
    "test(), a5"
   ]
  },
  {
   "cell_type": "code",
   "execution_count": 41,
   "metadata": {
    "id": "OOoV6rsVFN-I"
   },
   "outputs": [
    {
     "data": {
      "text/plain": [
       "(100, 100)"
      ]
     },
     "execution_count": 41,
     "metadata": {},
     "output_type": "execute_result"
    }
   ],
   "source": [
    "# 전역변수.\n",
    "a5 = 10\n",
    "\n",
    "def test() : \n",
    "    # 함수 내부에서 전역 변수를 컨트롤 하고 싶음.\n",
    "    # a5는 전역변수 이므로 그에 맞게 처리 선언.\n",
    "    # 그렇게 추천하지는 않음.\n",
    "    global a5\n",
    "    a5 = 100\n",
    "    return a5\n",
    "\n",
    "test(), a5"
   ]
  },
  {
   "cell_type": "code",
   "execution_count": 42,
   "metadata": {
    "id": "hmDN2QRmFrdY"
   },
   "outputs": [
    {
     "data": {
      "text/plain": [
       "100"
      ]
     },
     "execution_count": 42,
     "metadata": {},
     "output_type": "execute_result"
    }
   ],
   "source": [
    "# 스타일의 차이, 타 언어와의 유사성을 고려하면 이 스타일 좀 더 알맞음.\n",
    "a5 = 10\n",
    "def test() : \n",
    "    a5 = 100\n",
    "    return a5\n",
    "\n",
    "a5 = test()\n",
    "a5"
   ]
  }
 ],
 "metadata": {
  "colab": {
   "authorship_tag": "ABX9TyMws6bAHr5MPA7oSXn29G36",
   "collapsed_sections": [],
   "name": "7.함수.ipynb",
   "private_outputs": true,
   "provenance": []
  },
  "kernelspec": {
   "display_name": "Python 3",
   "language": "python",
   "name": "python3"
  },
  "language_info": {
   "codemirror_mode": {
    "name": "ipython",
    "version": 3
   },
   "file_extension": ".py",
   "mimetype": "text/x-python",
   "name": "python",
   "nbconvert_exporter": "python",
   "pygments_lexer": "ipython3",
   "version": "3.7.6"
  }
 },
 "nbformat": 4,
 "nbformat_minor": 1
}
