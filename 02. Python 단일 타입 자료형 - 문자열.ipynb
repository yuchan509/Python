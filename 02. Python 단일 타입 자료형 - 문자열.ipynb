{
 "cells": [
  {
   "cell_type": "markdown",
   "metadata": {
    "id": "DWgcFPWQjofj"
   },
   "source": [
    "#### 문자열\n",
    "- 단일 타입 데이터이면서 연속 데이터 형.\n",
    "- 수정불가. 뭔가 조작을 하면 새로 생성된 것.\n",
    "- 기호 : '..', \"..\", '''...''', \"\"\"...\"\"\"\n",
    "  - ''' or \"\"\" : \n",
    "    - 주석용.\n",
    "    - 여러줄로 문자열 표현.\n",
    "    - 구조를 유지하고 문자열을 표현.(sql문)"
   ]
  },
  {
   "cell_type": "code",
   "execution_count": 1,
   "metadata": {
    "id": "4NTp-PzrjXoW"
   },
   "outputs": [
    {
     "data": {
      "text/plain": [
       "'hello 부산대 ABC !@# 123'"
      ]
     },
     "execution_count": 1,
     "metadata": {},
     "output_type": "execute_result"
    }
   ],
   "source": [
    "# 1. 문자열 표현.\n",
    "a = 'hello 부산대 ABC !@# 123'\n",
    "a"
   ]
  },
  {
   "cell_type": "code",
   "execution_count": 2,
   "metadata": {
    "id": "9dohQOOPkXb-"
   },
   "outputs": [
    {
     "data": {
      "text/plain": [
       "str"
      ]
     },
     "execution_count": 2,
     "metadata": {},
     "output_type": "execute_result"
    }
   ],
   "source": [
    "# 2. 타입 확인.\n",
    "type(a)"
   ]
  },
  {
   "cell_type": "code",
   "execution_count": 3,
   "metadata": {
    "id": "knkGvPXbkXed"
   },
   "outputs": [
    {
     "name": "stdout",
     "output_type": "stream",
     "text": [
      "\n",
      "  select\n",
      "    *\n",
      "  from\n",
      "    users ;\n",
      "\n"
     ]
    }
   ],
   "source": [
    "# 3. 여러줄 표현.\n",
    "a = '''\n",
    "  select\n",
    "    *\n",
    "  from\n",
    "    users ;\n",
    "'''\n",
    "print(a)"
   ]
  },
  {
   "cell_type": "code",
   "execution_count": 4,
   "metadata": {
    "id": "52TReUoBkXg9"
   },
   "outputs": [
    {
     "data": {
      "text/plain": [
       "'abc\"123\"def'"
      ]
     },
     "execution_count": 4,
     "metadata": {},
     "output_type": "execute_result"
    }
   ],
   "source": [
    "# 4. 섞어서 표현 : ', \"  => javascript와 동일.\n",
    "a = 'abc\"123\"def'\n",
    "a"
   ]
  },
  {
   "cell_type": "code",
   "execution_count": 5,
   "metadata": {
    "id": "NTNgHcBpkXjV"
   },
   "outputs": [
    {
     "data": {
      "text/plain": [
       "\"abc'123'def\""
      ]
     },
     "execution_count": 5,
     "metadata": {},
     "output_type": "execute_result"
    }
   ],
   "source": [
    "a = 'abc\\'123\\'def'\n",
    "a"
   ]
  },
  {
   "cell_type": "code",
   "execution_count": 6,
   "metadata": {
    "id": "ZSg_NriUkXl2"
   },
   "outputs": [
    {
     "data": {
      "text/plain": [
       "('123456', '123', '456')"
      ]
     },
     "execution_count": 6,
     "metadata": {},
     "output_type": "execute_result"
    }
   ],
   "source": [
    "# 5. 문자열 더하기.\n",
    "a = \"123\"\n",
    "b = '456'\n",
    "\n",
    "# 문자열 이어 붙이기.\n",
    "a + b, a, b"
   ]
  },
  {
   "cell_type": "code",
   "execution_count": 7,
   "metadata": {
    "id": "_cMBqWXJkXoV"
   },
   "outputs": [
    {
     "data": {
      "text/plain": [
       "'++++++++++++++++++++++++++++++++++++++++++++++++++++++++++++++++++++++++++++++++++++++++++++++++++++'"
      ]
     },
     "execution_count": 7,
     "metadata": {},
     "output_type": "execute_result"
    }
   ],
   "source": [
    "# 6. 문자열 곱하기.\n",
    "\"+\" * 100"
   ]
  },
  {
   "cell_type": "code",
   "execution_count": 8,
   "metadata": {
    "id": "LRsHDMm1kXq1"
   },
   "outputs": [
    {
     "data": {
      "text/plain": [
       "'0123456789'"
      ]
     },
     "execution_count": 8,
     "metadata": {},
     "output_type": "execute_result"
    }
   ],
   "source": [
    "# 7. Indexing(중요) => 데이터 중 원하는 부분을 추출.\n",
    "# 문법 형태 : 변수명[인덱스(0,1,2,..:정방향,역방향(..-3,-2,-1))]\n",
    "# 차원축소를 전제로함.\n",
    "# ex) 2차배열의 인덱싱 1차배열이 결과.\n",
    "# ex) 백터를 인덱싱하면 스칼라 출력.\n",
    "# ex) DataFrame을 인덱싱하면 Series가 출력.\n",
    "a = '0123456789'\n",
    "a"
   ]
  },
  {
   "cell_type": "code",
   "execution_count": 9,
   "metadata": {
    "id": "ELYDLBAnqhU2"
   },
   "outputs": [
    {
     "data": {
      "text/plain": [
       "('3', '3')"
      ]
     },
     "execution_count": 9,
     "metadata": {},
     "output_type": "execute_result"
    }
   ],
   "source": [
    "# a 문자열에서 3을 추출하시오 => Indexing 적용\n",
    "# -는 커서의 오른쪽값을 취함.\n",
    "# Indexing 방향은 가까운 쪽으로 카운트.\n",
    "a[3], a[-7]"
   ]
  },
  {
   "cell_type": "code",
   "execution_count": 10,
   "metadata": {
    "id": "vw2bLgkqkXtm"
   },
   "outputs": [
    {
     "data": {
      "text/plain": [
       "'0123456789'"
      ]
     },
     "execution_count": 10,
     "metadata": {},
     "output_type": "execute_result"
    }
   ],
   "source": [
    "# 8. Slicing(중요) => 데이터 중 원하는 부분을 자름.\n",
    "# 문법 형태 : 변수[시작인덱스:종료인덱스:step]\n",
    "# 자름 => 차원 유지를 의미.\n",
    "# step(::) : 간격( 생략하면 1 )\n",
    "a"
   ]
  },
  {
   "cell_type": "code",
   "execution_count": 11,
   "metadata": {
    "id": "AVlOUN78kXwP"
   },
   "outputs": [
    {
     "data": {
      "text/plain": [
       "('0123456789', '02468', '12345678', '01', '89')"
      ]
     },
     "execution_count": 11,
     "metadata": {},
     "output_type": "execute_result"
    }
   ],
   "source": [
    "# 시작 인덱스 : 종료 인덱스가 생략되면, 처음부터 ~ 끝까지\n",
    "# 원본 카피\n",
    "# x : y => x <= 값 < y (끝은 포함되지 않음.)\n",
    "# :: => 간격.\n",
    "a[:], a[::2], a[1:-1], a[:2], a[-2:]"
   ]
  },
  {
   "cell_type": "code",
   "execution_count": 12,
   "metadata": {
    "id": "cxwTUI7JkXyu"
   },
   "outputs": [
    {
     "data": {
      "text/plain": [
       "'https://news.naver.com/main/read.nhn?mode=LSD&mid=shm&sid1=105&oid=005&aid=0001383660'"
      ]
     },
     "execution_count": 12,
     "metadata": {},
     "output_type": "execute_result"
    }
   ],
   "source": [
    "# 9. Split(구분자를 기준으로 분할.)\n",
    "a = 'https://news.naver.com/main/read.nhn?mode=LSD&mid=shm&sid1=105&oid=005&aid=0001383660'\n",
    "a "
   ]
  },
  {
   "cell_type": "code",
   "execution_count": 13,
   "metadata": {
    "id": "qkU8HjC8kX1g"
   },
   "outputs": [
    {
     "data": {
      "text/plain": [
       "'LSD'"
      ]
     },
     "execution_count": 13,
     "metadata": {},
     "output_type": "execute_result"
    }
   ],
   "source": [
    "# LSD라는 값을 추출 => mode 키값을 추출.\n",
    "tmp = a.split('?')\n",
    "tmp[-1].split('&')[0].split('=')[-1]"
   ]
  },
  {
   "cell_type": "code",
   "execution_count": 14,
   "metadata": {
    "id": "QkQIbllNkX8-"
   },
   "outputs": [
    {
     "data": {
      "text/plain": [
       "'a|b|c'"
      ]
     },
     "execution_count": 14,
     "metadata": {},
     "output_type": "execute_result"
    }
   ],
   "source": [
    "# 10. Join.\n",
    "# a|b|c 이렇게 만들기.\n",
    "tmp = list('abc')\n",
    "'|'.join( tmp )"
   ]
  },
  {
   "cell_type": "code",
   "execution_count": 15,
   "metadata": {
    "id": "FHGu4meVkYB2"
   },
   "outputs": [],
   "source": [
    "# 11. Formating.\n",
    "# 문자열과 문자열의 결합, 문자열안에 특정 데이터를 삽입하여 생성.\n",
    "# 11-1. 문자열 % (파라미터)\n",
    "# 11-2. 문자열.foramt(파라미터)\n",
    "# 11-3. f'문자{파라미터}열' <= 가장 최근에 추가됨. 3.6 버전부터 사용가능.\n",
    "# 데이터를 원하는 형태로 가공 처리하기 위해서 사용 => 정제의 역활.\n",
    "# 향후 문자열 전처리 => 정규식 처리\n",
    "a = 1\n",
    "b = 2"
   ]
  },
  {
   "cell_type": "code",
   "execution_count": 16,
   "metadata": {
    "id": "YWckJgPswc_5"
   },
   "outputs": [
    {
     "data": {
      "text/plain": [
       "'1 + 2 = 3'"
      ]
     },
     "execution_count": 16,
     "metadata": {},
     "output_type": "execute_result"
    }
   ],
   "source": [
    "# 타입이 맞지 않으면 에러가 발생.\n",
    "# a + \" + \" + b + '=' + (a + b)\n",
    "\n",
    "# 따라서 아래와 같이 수정.\n",
    "str(a) + \" + \" + str(b) + ' = ' + str(a + b)"
   ]
  },
  {
   "cell_type": "code",
   "execution_count": 17,
   "metadata": {
    "id": "8PB5YeWcwdGq"
   },
   "outputs": [
    {
     "data": {
      "text/plain": [
       "'1 + 2 = 0'"
      ]
     },
     "execution_count": 17,
     "metadata": {},
     "output_type": "execute_result"
    }
   ],
   "source": [
    "# 11-1.\n",
    "# %d 포멧팅 => 결과를 먼저 쓰고 나머지를 채움.\n",
    "# 위의 표현은 타입을 제한적으로 사용해서 타입이 틀리면 잠재적 오류 발생 예상. =>\n",
    "\"%d + %d = %d\" % (a, b, a / b)"
   ]
  },
  {
   "cell_type": "code",
   "execution_count": 18,
   "metadata": {
    "id": "cL-WpgNTwdJN"
   },
   "outputs": [
    {
     "data": {
      "text/plain": [
       "'1 + 2 = 0.5'"
      ]
     },
     "execution_count": 18,
     "metadata": {},
     "output_type": "execute_result"
    }
   ],
   "source": [
    "# 범용적으로 표현하여 예방.\n",
    "# %s => 입력값의 타입이 뭔지 몰라도 다 처리함.\n",
    "# 단, 순서를 바꿀 수는 없음. 순서대로 자리에 들어감.\n",
    "\"%s + %s = %s\" % (a, b, a / b)"
   ]
  },
  {
   "cell_type": "code",
   "execution_count": 19,
   "metadata": {
    "id": "EF-8xDowkYE2"
   },
   "outputs": [
    {
     "data": {
      "text/plain": [
       "'1 + 2 = 0.5'"
      ]
     },
     "execution_count": 19,
     "metadata": {},
     "output_type": "execute_result"
    }
   ],
   "source": [
    "# 11-2.\n",
    "# .format() => 위의 한계점 등을 개선한 포맷팅.\n",
    "\"{} + {} = {}\".format(a, b, a / b)"
   ]
  },
  {
   "cell_type": "code",
   "execution_count": 20,
   "metadata": {
    "id": "LgvQ3VTkkYG9"
   },
   "outputs": [
    {
     "data": {
      "text/plain": [
       "'1 + 2 = 0.5'"
      ]
     },
     "execution_count": 20,
     "metadata": {},
     "output_type": "execute_result"
    }
   ],
   "source": [
    "\"{0} + {1} = {2}\".format(a, b, a / b)"
   ]
  },
  {
   "cell_type": "code",
   "execution_count": 21,
   "metadata": {
    "id": "m2EaNU2KkYJf"
   },
   "outputs": [
    {
     "data": {
      "text/plain": [
       "'2 + 1 = 0.5'"
      ]
     },
     "execution_count": 21,
     "metadata": {},
     "output_type": "execute_result"
    }
   ],
   "source": [
    "# 순서를 바꿔도 가능.\n",
    "\"{1} + {0} = {2}\".format(a, b, a / b)"
   ]
  },
  {
   "cell_type": "code",
   "execution_count": 22,
   "metadata": {
    "id": "ERkVMTMSkYMH"
   },
   "outputs": [
    {
     "data": {
      "text/plain": [
       "'2 + 2 = 1'"
      ]
     },
     "execution_count": 22,
     "metadata": {},
     "output_type": "execute_result"
    }
   ],
   "source": [
    "# 파라미터를 사용하지 않아도 괜찮음.\n",
    "\"{1} + {1} = {0}\".format(a, b, a/b)"
   ]
  },
  {
   "cell_type": "code",
   "execution_count": 23,
   "metadata": {
    "id": "9D4rjTkWkYOw"
   },
   "outputs": [
    {
     "data": {
      "text/plain": [
       "'1 + 2 = 0.5'"
      ]
     },
     "execution_count": 23,
     "metadata": {},
     "output_type": "execute_result"
    }
   ],
   "source": [
    "# 의미를 명확하게 부여할 수 있음.\n",
    "\"{height} + {weight} = {result}\".format(height=a, weight=b, result=a/b)"
   ]
  },
  {
   "cell_type": "code",
   "execution_count": 24,
   "metadata": {
    "id": "hSv8khUVkYRO"
   },
   "outputs": [
    {
     "data": {
      "text/plain": [
       "'1 + 2 = 3'"
      ]
     },
     "execution_count": 24,
     "metadata": {},
     "output_type": "execute_result"
    }
   ],
   "source": [
    "# 11-3.\n",
    "# f-string 포멧팅 => 가장 간결.\n",
    "f'{a} + {b} = {a + b}'"
   ]
  },
  {
   "cell_type": "code",
   "execution_count": 25,
   "metadata": {
    "id": "OJ94hMrIDDPh"
   },
   "outputs": [
    {
     "data": {
      "text/plain": [
       "('[유럽연합 EUR]', '[유럽연합 EUR\\n\\t\\t\\t\\t\\n]', '[\\n\\t\\t\\t\\t\\t\\n\\t\\t\\t\\t\\t유럽연합 EUR]')"
      ]
     },
     "execution_count": 25,
     "metadata": {},
     "output_type": "execute_result"
    }
   ],
   "source": [
    "# 12. 공백 제거.\n",
    "# 문자열의 내부 공백 제거, 복잡한 패턴의 데이터를 필터링, 추출.\n",
    "# 간단한 것은 문자열 함수들로 처리하고, 복잡한 것은 정규식으로 처리.\n",
    "tmp = '''\n",
    "\t\t\t\t\t\n",
    "\t\t\t\t\t유럽연합 EUR\n",
    "\t\t\t\t\n",
    "'''\n",
    "# 문자열의 앞뒤 공백 제거. => 문자열 함수 사용\n",
    "f'[{tmp.strip()}]', f'[{tmp.lstrip()}]', f'[{tmp.rstrip()}]'"
   ]
  },
  {
   "cell_type": "code",
   "execution_count": 26,
   "metadata": {
    "id": "4NtMWZGokYV_"
   },
   "outputs": [
    {
     "data": {
      "text/plain": [
       "('1234', '1AB4')"
      ]
     },
     "execution_count": 26,
     "metadata": {},
     "output_type": "execute_result"
    }
   ],
   "source": [
    "# 13. 대체.\n",
    "a = \"1234\"\n",
    "a, a.replace(\"23\",\"AB\")"
   ]
  },
  {
   "cell_type": "code",
   "execution_count": 27,
   "metadata": {
    "id": "P8S0t4c_kYYy"
   },
   "outputs": [
    {
     "data": {
      "text/plain": [
       "'[abcd]'"
      ]
     },
     "execution_count": 27,
     "metadata": {},
     "output_type": "execute_result"
    }
   ],
   "source": [
    "# 14. 문자열 포멧팅 응용에서 값의 자리수(칸수) 지정.\n",
    "'[%s]' % 'abcd'"
   ]
  },
  {
   "cell_type": "code",
   "execution_count": 28,
   "metadata": {
    "id": "4ZBdxmKqujtY"
   },
   "outputs": [
    {
     "data": {
      "text/plain": [
       "('[      abcd]', '[abcd      ]')"
      ]
     },
     "execution_count": 28,
     "metadata": {},
     "output_type": "execute_result"
    }
   ],
   "source": [
    "# 10칸을 무조건 차지.\n",
    "'[%10s]' % 'abcd', '[%-10s]' % 'abcd'"
   ]
  },
  {
   "cell_type": "code",
   "execution_count": 29,
   "metadata": {
    "id": "25fpXrYuur1X"
   },
   "outputs": [
    {
     "data": {
      "text/plain": [
       "('[  3.145678]', '[  3.145678]')"
      ]
     },
     "execution_count": 29,
     "metadata": {},
     "output_type": "execute_result"
    }
   ],
   "source": [
    "'[%10f]' % 3.145678, '[%10s]' % 3.145678"
   ]
  },
  {
   "cell_type": "code",
   "execution_count": 30,
   "metadata": {
    "id": "O4YVmPrsu_Kv"
   },
   "outputs": [
    {
     "data": {
      "text/plain": [
       "'[      3.15]'"
      ]
     },
     "execution_count": 30,
     "metadata": {},
     "output_type": "execute_result"
    }
   ],
   "source": [
    "'[%10.2f]' % 3.145678"
   ]
  },
  {
   "cell_type": "code",
   "execution_count": 31,
   "metadata": {
    "id": "brGDcYDjvF0_"
   },
   "outputs": [
    {
     "data": {
      "text/plain": [
       "'[abcd      ]'"
      ]
     },
     "execution_count": 31,
     "metadata": {},
     "output_type": "execute_result"
    }
   ],
   "source": [
    "# '[{0:-10}]'.format('abcd') : 에러 발생.\n",
    "'[{:10}]'.format('abcd')"
   ]
  },
  {
   "cell_type": "code",
   "execution_count": 32,
   "metadata": {
    "id": "Kam0qMguvWFP"
   },
   "outputs": [
    {
     "data": {
      "text/plain": [
       "('[abcd      ]', '[      abcd]')"
      ]
     },
     "execution_count": 32,
     "metadata": {},
     "output_type": "execute_result"
    }
   ],
   "source": [
    "# 앞쪽, 뒤쪽으로 정렬.\n",
    "'[{0:<10}]'.format('abcd'), '[{0:>10}]'.format('abcd')"
   ]
  },
  {
   "cell_type": "code",
   "execution_count": 33,
   "metadata": {
    "id": "7xUmRAamvx-Y"
   },
   "outputs": [
    {
     "data": {
      "text/plain": [
       "('[   abcd   ]', '[***abcd***]')"
      ]
     },
     "execution_count": 33,
     "metadata": {},
     "output_type": "execute_result"
    }
   ],
   "source": [
    "# 중심.\n",
    "'[{0:^10}]'.format('abcd'), '[{0:*^10}]'.format('abcd')"
   ]
  },
  {
   "cell_type": "code",
   "execution_count": 34,
   "metadata": {
    "id": "pnAS0tAZv295"
   },
   "outputs": [
    {
     "data": {
      "text/plain": [
       "('[abcd      ]', '[      abcd]', '[   abcd   ]')"
      ]
     },
     "execution_count": 34,
     "metadata": {},
     "output_type": "execute_result"
    }
   ],
   "source": [
    "a = 'abcd'\n",
    "f'[{a:10}]', f'[{a:>10}]', f'[{a:^10}]'"
   ]
  }
 ],
 "metadata": {
  "colab": {
   "authorship_tag": "ABX9TyNV0E6skP0sYAkmZzrk+7ZH",
   "collapsed_sections": [],
   "name": "3.단일데이터형_문자열.ipynb",
   "private_outputs": true,
   "provenance": []
  },
  "kernelspec": {
   "display_name": "Python 3",
   "language": "python",
   "name": "python3"
  },
  "language_info": {
   "codemirror_mode": {
    "name": "ipython",
    "version": 3
   },
   "file_extension": ".py",
   "mimetype": "text/x-python",
   "name": "python",
   "nbconvert_exporter": "python",
   "pygments_lexer": "ipython3",
   "version": "3.7.6"
  }
 },
 "nbformat": 4,
 "nbformat_minor": 1
}
